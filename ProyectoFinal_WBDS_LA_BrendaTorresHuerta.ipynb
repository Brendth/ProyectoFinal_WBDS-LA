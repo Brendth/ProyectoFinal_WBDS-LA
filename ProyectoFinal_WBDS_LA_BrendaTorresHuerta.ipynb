{
  "nbformat": 4,
  "nbformat_minor": 0,
  "metadata": {
    "colab": {
      "provenance": []
    },
    "kernelspec": {
      "name": "python3",
      "display_name": "Python 3"
    },
    "language_info": {
      "name": "python"
    }
  },
  "cells": [
    {
      "cell_type": "markdown",
      "source": [
        "## <font color=purple>**2023 1st WBDS LA Camp \"Introduction to Bioinformatics and Data Science\"** \n",
        "###**Brenda Torres Huerta** "
      ],
      "metadata": {
        "id": "GceT6jbs4c4i"
      }
    },
    {
      "cell_type": "markdown",
      "source": [
        "El **objetivo** de mi proyecto fue analizar el genoma de la bacteria gram negativa *Serratia marcescens*, un patógeno oportunista de insectos que causa bacteriemia en la hemolinfa y genera una muerte rápida. \n",
        "\n",
        "En este proyecto realicé:\n",
        "\n",
        "*   Predicción de genes en un genoma bacteriano\n",
        "*   Búsqueda de secuencias de proteínas de referencia relacionadas con serralisinas en la base de datos UniprotKB\n",
        "*   Análisis de homología con BLASTp\n",
        "*   Visualización de resultados de anotación con pyCirclize \n",
        "*   Análisis funcionales con InterPro\n",
        "*   Análisis filogenéticos\n",
        "\n",
        "Realicé una búsqueda de las secuencias de genes que codifican el **factor de virulencia llamado serralisina**, que tiene actividad insecticida al degradar los factores inmunes humorales en insectos. \n",
        "\n",
        "La **serralisina** es una **metaloproteasa** conservada en varias especies de bacterias, que se caracteriza por un motivo de unión al zinc (HEXXHXXGXXHZ)."
      ],
      "metadata": {
        "id": "noznerHT4iBQ"
      }
    },
    {
      "cell_type": "markdown",
      "source": [
        "### <font color=purple>**1.Preparación del entorno**"
      ],
      "metadata": {
        "id": "T2r3OJkG54Oa"
      }
    },
    {
      "cell_type": "markdown",
      "source": [
        "\n",
        "Las bibliotecas necesarias para que todo el código funcione son las siguientes:\n",
        "\n",
        "1.   **pyCirclize** para visualizar nuestros datos genómicos\n",
        "2.   **pyrodigal** para la predicción de genes codificantes\n",
        "3.   **requests** para interactuar con las APIs de NCBI, UniProt e InterProScan\n",
        "4.   **seaborn** para visualizar algunas de las propiedades genómicas obtenidas\n",
        "5.   **subprocess** ejecutar comandos fuera del entorno de python\n",
        "6.   **BioPython** para el manejo de secuencias\n",
        "7.   **io** para conectar las entradas y salidas de los distintos programas\n",
        "8.   **pandas** para el manejo general de datos"
      ],
      "metadata": {
        "id": "JRc8yPKwvWf4"
      }
    },
    {
      "cell_type": "code",
      "source": [
        "# Instalación de bibliotecas\n",
        "\n",
        "!pip3 install matplotlib\n",
        "!pip3 install pandas\n",
        "!pip3 install pycirclize\n",
        "!pip3 install pyrodigal\n",
        "!pip3 install requests\n",
        "!pip3 install seaborn\n",
        "!pip3 install biopython"
      ],
      "metadata": {
        "colab": {
          "base_uri": "https://localhost:8080/"
        },
        "id": "Qi7vNaso7QDx",
        "outputId": "c122f7ab-2dc9-4e61-c74f-4d0927b82792"
      },
      "execution_count": 1,
      "outputs": [
        {
          "output_type": "stream",
          "name": "stdout",
          "text": [
            "Looking in indexes: https://pypi.org/simple, https://us-python.pkg.dev/colab-wheels/public/simple/\n",
            "Requirement already satisfied: matplotlib in /usr/local/lib/python3.9/dist-packages (3.7.1)\n",
            "Requirement already satisfied: packaging>=20.0 in /usr/local/lib/python3.9/dist-packages (from matplotlib) (23.0)\n",
            "Requirement already satisfied: pillow>=6.2.0 in /usr/local/lib/python3.9/dist-packages (from matplotlib) (8.4.0)\n",
            "Requirement already satisfied: cycler>=0.10 in /usr/local/lib/python3.9/dist-packages (from matplotlib) (0.11.0)\n",
            "Requirement already satisfied: pyparsing>=2.3.1 in /usr/local/lib/python3.9/dist-packages (from matplotlib) (3.0.9)\n",
            "Requirement already satisfied: contourpy>=1.0.1 in /usr/local/lib/python3.9/dist-packages (from matplotlib) (1.0.7)\n",
            "Requirement already satisfied: fonttools>=4.22.0 in /usr/local/lib/python3.9/dist-packages (from matplotlib) (4.39.0)\n",
            "Requirement already satisfied: importlib-resources>=3.2.0 in /usr/local/lib/python3.9/dist-packages (from matplotlib) (5.12.0)\n",
            "Requirement already satisfied: python-dateutil>=2.7 in /usr/local/lib/python3.9/dist-packages (from matplotlib) (2.8.2)\n",
            "Requirement already satisfied: numpy>=1.20 in /usr/local/lib/python3.9/dist-packages (from matplotlib) (1.22.4)\n",
            "Requirement already satisfied: kiwisolver>=1.0.1 in /usr/local/lib/python3.9/dist-packages (from matplotlib) (1.4.4)\n",
            "Requirement already satisfied: zipp>=3.1.0 in /usr/local/lib/python3.9/dist-packages (from importlib-resources>=3.2.0->matplotlib) (3.15.0)\n",
            "Requirement already satisfied: six>=1.5 in /usr/local/lib/python3.9/dist-packages (from python-dateutil>=2.7->matplotlib) (1.15.0)\n",
            "Looking in indexes: https://pypi.org/simple, https://us-python.pkg.dev/colab-wheels/public/simple/\n",
            "Requirement already satisfied: pandas in /usr/local/lib/python3.9/dist-packages (1.4.4)\n",
            "Requirement already satisfied: python-dateutil>=2.8.1 in /usr/local/lib/python3.9/dist-packages (from pandas) (2.8.2)\n",
            "Requirement already satisfied: numpy>=1.18.5 in /usr/local/lib/python3.9/dist-packages (from pandas) (1.22.4)\n",
            "Requirement already satisfied: pytz>=2020.1 in /usr/local/lib/python3.9/dist-packages (from pandas) (2022.7.1)\n",
            "Requirement already satisfied: six>=1.5 in /usr/local/lib/python3.9/dist-packages (from python-dateutil>=2.8.1->pandas) (1.15.0)\n",
            "Looking in indexes: https://pypi.org/simple, https://us-python.pkg.dev/colab-wheels/public/simple/\n",
            "Collecting pycirclize\n",
            "  Downloading pycirclize-0.2.0-py3-none-any.whl (53 kB)\n",
            "\u001b[2K     \u001b[90m━━━━━━━━━━━━━━━━━━━━━━━━━━━━━━━━━━━━━━━━\u001b[0m \u001b[32m53.4/53.4 KB\u001b[0m \u001b[31m1.9 MB/s\u001b[0m eta \u001b[36m0:00:00\u001b[0m\n",
            "\u001b[?25hCollecting biopython>=1.79\n",
            "  Downloading biopython-1.81-cp39-cp39-manylinux_2_17_x86_64.manylinux2014_x86_64.whl (3.1 MB)\n",
            "\u001b[2K     \u001b[90m━━━━━━━━━━━━━━━━━━━━━━━━━━━━━━━━━━━━━━━━\u001b[0m \u001b[32m3.1/3.1 MB\u001b[0m \u001b[31m10.3 MB/s\u001b[0m eta \u001b[36m0:00:00\u001b[0m\n",
            "\u001b[?25hRequirement already satisfied: pandas>=1.3.5 in /usr/local/lib/python3.9/dist-packages (from pycirclize) (1.4.4)\n",
            "Requirement already satisfied: matplotlib>=3.5.2 in /usr/local/lib/python3.9/dist-packages (from pycirclize) (3.7.1)\n",
            "Requirement already satisfied: numpy>=1.21.1 in /usr/local/lib/python3.9/dist-packages (from pycirclize) (1.22.4)\n",
            "Requirement already satisfied: pillow>=6.2.0 in /usr/local/lib/python3.9/dist-packages (from matplotlib>=3.5.2->pycirclize) (8.4.0)\n",
            "Requirement already satisfied: kiwisolver>=1.0.1 in /usr/local/lib/python3.9/dist-packages (from matplotlib>=3.5.2->pycirclize) (1.4.4)\n",
            "Requirement already satisfied: cycler>=0.10 in /usr/local/lib/python3.9/dist-packages (from matplotlib>=3.5.2->pycirclize) (0.11.0)\n",
            "Requirement already satisfied: fonttools>=4.22.0 in /usr/local/lib/python3.9/dist-packages (from matplotlib>=3.5.2->pycirclize) (4.39.0)\n",
            "Requirement already satisfied: packaging>=20.0 in /usr/local/lib/python3.9/dist-packages (from matplotlib>=3.5.2->pycirclize) (23.0)\n",
            "Requirement already satisfied: importlib-resources>=3.2.0 in /usr/local/lib/python3.9/dist-packages (from matplotlib>=3.5.2->pycirclize) (5.12.0)\n",
            "Requirement already satisfied: python-dateutil>=2.7 in /usr/local/lib/python3.9/dist-packages (from matplotlib>=3.5.2->pycirclize) (2.8.2)\n",
            "Requirement already satisfied: pyparsing>=2.3.1 in /usr/local/lib/python3.9/dist-packages (from matplotlib>=3.5.2->pycirclize) (3.0.9)\n",
            "Requirement already satisfied: contourpy>=1.0.1 in /usr/local/lib/python3.9/dist-packages (from matplotlib>=3.5.2->pycirclize) (1.0.7)\n",
            "Requirement already satisfied: pytz>=2020.1 in /usr/local/lib/python3.9/dist-packages (from pandas>=1.3.5->pycirclize) (2022.7.1)\n",
            "Requirement already satisfied: zipp>=3.1.0 in /usr/local/lib/python3.9/dist-packages (from importlib-resources>=3.2.0->matplotlib>=3.5.2->pycirclize) (3.15.0)\n",
            "Requirement already satisfied: six>=1.5 in /usr/local/lib/python3.9/dist-packages (from python-dateutil>=2.7->matplotlib>=3.5.2->pycirclize) (1.15.0)\n",
            "Installing collected packages: biopython, pycirclize\n",
            "Successfully installed biopython-1.81 pycirclize-0.2.0\n",
            "Looking in indexes: https://pypi.org/simple, https://us-python.pkg.dev/colab-wheels/public/simple/\n",
            "Collecting pyrodigal\n",
            "  Downloading pyrodigal-2.1.0-cp39-cp39-manylinux_2_17_x86_64.manylinux2014_x86_64.whl (4.4 MB)\n",
            "\u001b[2K     \u001b[90m━━━━━━━━━━━━━━━━━━━━━━━━━━━━━━━━━━━━━━━━\u001b[0m \u001b[32m4.4/4.4 MB\u001b[0m \u001b[31m37.7 MB/s\u001b[0m eta \u001b[36m0:00:00\u001b[0m\n",
            "\u001b[?25hInstalling collected packages: pyrodigal\n",
            "Successfully installed pyrodigal-2.1.0\n",
            "Looking in indexes: https://pypi.org/simple, https://us-python.pkg.dev/colab-wheels/public/simple/\n",
            "Requirement already satisfied: requests in /usr/local/lib/python3.9/dist-packages (2.27.1)\n",
            "Requirement already satisfied: idna<4,>=2.5 in /usr/local/lib/python3.9/dist-packages (from requests) (3.4)\n",
            "Requirement already satisfied: urllib3<1.27,>=1.21.1 in /usr/local/lib/python3.9/dist-packages (from requests) (1.26.15)\n",
            "Requirement already satisfied: charset-normalizer~=2.0.0 in /usr/local/lib/python3.9/dist-packages (from requests) (2.0.12)\n",
            "Requirement already satisfied: certifi>=2017.4.17 in /usr/local/lib/python3.9/dist-packages (from requests) (2022.12.7)\n",
            "Looking in indexes: https://pypi.org/simple, https://us-python.pkg.dev/colab-wheels/public/simple/\n",
            "Requirement already satisfied: seaborn in /usr/local/lib/python3.9/dist-packages (0.12.2)\n",
            "Requirement already satisfied: numpy!=1.24.0,>=1.17 in /usr/local/lib/python3.9/dist-packages (from seaborn) (1.22.4)\n",
            "Requirement already satisfied: pandas>=0.25 in /usr/local/lib/python3.9/dist-packages (from seaborn) (1.4.4)\n",
            "Requirement already satisfied: matplotlib!=3.6.1,>=3.1 in /usr/local/lib/python3.9/dist-packages (from seaborn) (3.7.1)\n",
            "Requirement already satisfied: contourpy>=1.0.1 in /usr/local/lib/python3.9/dist-packages (from matplotlib!=3.6.1,>=3.1->seaborn) (1.0.7)\n",
            "Requirement already satisfied: kiwisolver>=1.0.1 in /usr/local/lib/python3.9/dist-packages (from matplotlib!=3.6.1,>=3.1->seaborn) (1.4.4)\n",
            "Requirement already satisfied: python-dateutil>=2.7 in /usr/local/lib/python3.9/dist-packages (from matplotlib!=3.6.1,>=3.1->seaborn) (2.8.2)\n",
            "Requirement already satisfied: packaging>=20.0 in /usr/local/lib/python3.9/dist-packages (from matplotlib!=3.6.1,>=3.1->seaborn) (23.0)\n",
            "Requirement already satisfied: cycler>=0.10 in /usr/local/lib/python3.9/dist-packages (from matplotlib!=3.6.1,>=3.1->seaborn) (0.11.0)\n",
            "Requirement already satisfied: pyparsing>=2.3.1 in /usr/local/lib/python3.9/dist-packages (from matplotlib!=3.6.1,>=3.1->seaborn) (3.0.9)\n",
            "Requirement already satisfied: fonttools>=4.22.0 in /usr/local/lib/python3.9/dist-packages (from matplotlib!=3.6.1,>=3.1->seaborn) (4.39.0)\n",
            "Requirement already satisfied: importlib-resources>=3.2.0 in /usr/local/lib/python3.9/dist-packages (from matplotlib!=3.6.1,>=3.1->seaborn) (5.12.0)\n",
            "Requirement already satisfied: pillow>=6.2.0 in /usr/local/lib/python3.9/dist-packages (from matplotlib!=3.6.1,>=3.1->seaborn) (8.4.0)\n",
            "Requirement already satisfied: pytz>=2020.1 in /usr/local/lib/python3.9/dist-packages (from pandas>=0.25->seaborn) (2022.7.1)\n",
            "Requirement already satisfied: zipp>=3.1.0 in /usr/local/lib/python3.9/dist-packages (from importlib-resources>=3.2.0->matplotlib!=3.6.1,>=3.1->seaborn) (3.15.0)\n",
            "Requirement already satisfied: six>=1.5 in /usr/local/lib/python3.9/dist-packages (from python-dateutil>=2.7->matplotlib!=3.6.1,>=3.1->seaborn) (1.15.0)\n",
            "Looking in indexes: https://pypi.org/simple, https://us-python.pkg.dev/colab-wheels/public/simple/\n",
            "Requirement already satisfied: biopython in /usr/local/lib/python3.9/dist-packages (1.81)\n",
            "Requirement already satisfied: numpy in /usr/local/lib/python3.9/dist-packages (from biopython) (1.22.4)\n"
          ]
        }
      ]
    },
    {
      "cell_type": "code",
      "source": [
        "# Importar librerías \n",
        "\n",
        "import matplotlib.pyplot as plt\n",
        "import numpy  as np\n",
        "import pandas as pd\n",
        "import pyrodigal\n",
        "import requests\n",
        "import seaborn as sns\n",
        "import subprocess\n",
        "import sys\n",
        "from Bio import SeqIO\n",
        "from io                 import StringIO\n",
        "from matplotlib.patches import Patch\n",
        "from pycirclize         import Circos\n",
        "from pycirclize.parser  import Gff\n",
        "from requests.adapters  import HTTPAdapter, Retry"
      ],
      "metadata": {
        "id": "3HFebHiw7y6T"
      },
      "execution_count": 2,
      "outputs": []
    },
    {
      "cell_type": "code",
      "source": [
        "#Ingresar permisos para Entrez \"credentials\"\n",
        "\n",
        "from Bio import Entrez\n",
        "Entrez.email   = \"brendth@gmail.com\"\n",
        "Entrez.api_key = \"e8e1eabcd090b798410d159d4c6a2b6a4708\""
      ],
      "metadata": {
        "id": "B8LYTh714S_6"
      },
      "execution_count": 3,
      "outputs": []
    },
    {
      "cell_type": "markdown",
      "source": [
        "### <font color=purple>**2.Obtención del genoma de** *Serratia mirescens*"
      ],
      "metadata": {
        "id": "7btf3_3i8rbf"
      }
    },
    {
      "cell_type": "markdown",
      "source": [
        "El número de acceso del genoma completo que utilizaré en este análisis es **CP053918.1** del bioproyecto PRJNA634799."
      ],
      "metadata": {
        "id": "4ZHTXzZcvSZB"
      }
    },
    {
      "cell_type": "code",
      "source": [
        "# Descargar secuencia\n",
        "\n",
        "accession = \"CP053918.1\"\n",
        "genome = Entrez.efetch(db=\"nucleotide\",\n",
        "                       id=accession,\n",
        "                       format=\"gb\",\n",
        "                       rettype=\"text\")\n",
        "record = SeqIO.read(genome, \"genbank\")\n",
        "genome_length = len(record.seq)"
      ],
      "metadata": {
        "id": "jZByI8nzCHVc"
      },
      "execution_count": 4,
      "outputs": []
    },
    {
      "cell_type": "code",
      "source": [
        "# Datos del genoma\n",
        "record"
      ],
      "metadata": {
        "colab": {
          "base_uri": "https://localhost:8080/"
        },
        "id": "cFqIPGNvCSnr",
        "outputId": "8a99fd50-959d-44ed-bafd-5b39243599f0"
      },
      "execution_count": 5,
      "outputs": [
        {
          "output_type": "execute_result",
          "data": {
            "text/plain": [
              "SeqRecord(seq=Seq('GTGGAGTCCGCCGTGTCACTTTCGCTTTGGCAGCAGTGTCTTGCCCGATTGCAG...CGA'), id='CP053918.1', name='CP053918', description='Serratia marcescens strain LY1 chromosome, complete genome', dbxrefs=['BioProject:PRJNA634799', 'BioSample:SAMN15009256'])"
            ]
          },
          "metadata": {},
          "execution_count": 5
        }
      ]
    },
    {
      "cell_type": "code",
      "source": [
        "#Tamaño del genoma\n",
        "genome_length"
      ],
      "metadata": {
        "colab": {
          "base_uri": "https://localhost:8080/"
        },
        "id": "ri_2ZyeeCaxC",
        "outputId": "22ae33fc-9c80-414b-85c6-08f3921ae63d"
      },
      "execution_count": 6,
      "outputs": [
        {
          "output_type": "execute_result",
          "data": {
            "text/plain": [
              "5171649"
            ]
          },
          "metadata": {},
          "execution_count": 6
        }
      ]
    },
    {
      "cell_type": "markdown",
      "source": [
        "### <font color=purple>**3.Predicción de genes**"
      ],
      "metadata": {
        "id": "wYFdIcsIDqks"
      }
    },
    {
      "cell_type": "markdown",
      "source": [
        "Usé pyrodigal para la predicción de los genes en el genoma de *Serratia*, específicamente la secuencia de codificación (CDS). Para ello utilicé el siguiente código**:**"
      ],
      "metadata": {
        "id": "7QULEa4yvOAr"
      }
    },
    {
      "cell_type": "code",
      "source": [
        "orf_finder = pyrodigal.OrfFinder()\n",
        "orf_finder.train(bytes(record.seq))\n",
        "orf_genes = orf_finder.find_genes(bytes(record.seq))"
      ],
      "metadata": {
        "id": "mcu4jSh5E_iH"
      },
      "execution_count": 7,
      "outputs": []
    },
    {
      "cell_type": "markdown",
      "source": [
        "Los resultados se almacenaron en **orf_genes**, que además contiene información sobre los resultados de la traducción de los cds, es decir, las secuencias de las proteínas, las posiciones de las regiones codificantes, el sentido de la traducción, entre otros.\n",
        "\n",
        "Las secuencias de aminoácidos de los genes predichos los almacenaré en un nuevo archivo que nombraré como **CP053918.1.pep**, y el prefijo lo establecí como Smir"
      ],
      "metadata": {
        "id": "pVTALvGGFwno"
      }
    },
    {
      "cell_type": "code",
      "source": [
        "aa_file = accession + \".pep\"\n",
        "prefix  = \"Smir\"\n",
        "with open(aa_file, \"w\") as orf_gene:\n",
        "    orf_genes.write_translations(orf_gene,sequence_id=prefix)"
      ],
      "metadata": {
        "id": "gx2KWCViHgpc"
      },
      "execution_count": 8,
      "outputs": []
    },
    {
      "cell_type": "code",
      "source": [
        "gff_file = accession + \".gff\"\n",
        "prefix  = \"Smir\"\n",
        "with open(gff_file, \"w\") as orf_gene:\n",
        "    orf_genes.write_gff(orf_gene,sequence_id=prefix)"
      ],
      "metadata": {
        "id": "fr0r-oDAHl4V"
      },
      "execution_count": 9,
      "outputs": []
    },
    {
      "cell_type": "markdown",
      "source": [
        "*   El archivo **.pep** que contiene las secuencias de aminoácidos de los genes putativos de *S. mirescens* lo ocuparé para realizar análisis funcionales y de homología contra una base de datos curada\n",
        "*   Con el archivo **.gff** visualizaré los resultados de las predicciones realizadas"
      ],
      "metadata": {
        "id": "XxS99eqtI2gP"
      }
    },
    {
      "cell_type": "markdown",
      "source": [
        "### <font color=purple>**4.Creación de un set de secuencias de referencia para análisis de homología**\n"
      ],
      "metadata": {
        "id": "uTduIzU2J8kk"
      }
    },
    {
      "cell_type": "code",
      "source": [
        "#Realizar la búsqueda de genes relacionados con serralysin de datos revisados\n",
        "\n",
        "uniprot_api_url  = \"https://rest.uniprot.org/uniprotkb/stream\"\n",
        "uniprot_api_args = {\"compressed\" : \"false\",\n",
        "                    \"format\"     : \"fasta\",\n",
        "                    \"query\"      : \"(serralysin) AND (reviewed:true)\"}\n",
        "uniprot_ref_seqs = requests.get(uniprot_api_url,params=uniprot_api_args).text"
      ],
      "metadata": {
        "id": "6SD_FEcjMDfm"
      },
      "execution_count": 12,
      "outputs": []
    },
    {
      "cell_type": "code",
      "source": [
        "# Almacenar el archivo en formato fasta y guardarlo en el disco duro\n",
        "\n",
        "uniprot_seqs_file = open(\"uniprot_sequences.fasta\", \"wt\")\n",
        "uniprot_seqs_file.write(uniprot_ref_seqs)\n",
        "uniprot_seqs_file.close()"
      ],
      "metadata": {
        "id": "JpdjfWUbMWjd"
      },
      "execution_count": 13,
      "outputs": []
    },
    {
      "cell_type": "markdown",
      "source": [
        "### <font color=purple>**5.Creación de una base de datos tipo BLAST**"
      ],
      "metadata": {
        "id": "GweO9HnZM2yx"
      }
    },
    {
      "cell_type": "markdown",
      "source": [
        "La base de datos para los análisis de homología la realicé de manera local, para ello, instalé blast+ en linux de la siguiente forma:\n",
        "\n",
        "**1)** Ejecuté el siguiente comando para obtener el programa **blast-2.3.0**\n",
        "\n",
        "```\n",
        "$ wget ftp://ftp.ncbi.nlm.nih.gov/blast/executables/LATEST/ncbi-blast-2.3.0+-x64-linux.tar.gz\n",
        "```\n",
        "**2)** Descomprimí el archivo y agregué la ruta del bin al path de linux\n",
        "\n",
        "```\n",
        "$ tar -xzvf ncbi-blast-2.3.0+-x64-linux.tar.gz\n",
        "$ cd ncbi-blast-2.3.0+/bin\n",
        "\n",
        "#Exportar y guardar la ubicación de los ejecutables al PATH\n",
        "$ sudo nano .bashrc\n",
        "export PATH=\"/home/brendth/PROGRAMAS/ncbi-blast-2.9.0+/bin:$PATH\"\n",
        "```\n",
        "**3)** Para realizar la base de datos ocupé el archivo **uniprot_sequences.fasta** que descargué en el paso anterior y ocupé el siguiente comando:\n",
        "\n",
        "```\n",
        "$ makeblastdb -in uniprot_sequences.fasta -dbtype prot -out UniprotSequences\n",
        "```\n",
        "Este comando creó la base de datos tipo blast que consiste en los siguientes archivos:\n",
        "\n",
        "1.   UniprotSequences.pdb\n",
        "2.   UniprotSequences.phr\n",
        "3.   UniprotSequences.pin\n",
        "4.   UniprotSequences.pjs\n",
        "5.   UniprotSequences.pot\n",
        "6.   UniprotSequences.psq\n",
        "7.   UniprotSequences.ptf\n",
        "8.   UniprotSequences.pto"
      ],
      "metadata": {
        "id": "PNRvZP5fvJ5e"
      }
    },
    {
      "cell_type": "markdown",
      "source": [
        "### <font color=purple>**6. Análisis de homología**"
      ],
      "metadata": {
        "id": "cbAoy49BykxJ"
      }
    },
    {
      "cell_type": "markdown",
      "source": [
        "La base de datos de referencia contiene **88 secuencias relacionadas con el factor de virulencia serralysin** y a partir del **genoma** se obtuvieron **4,763 secuencias** no caracterizadas. \n",
        "\n",
        "**1)** Realicé una comparación de las secuencias del genoma con las de UniprotKB, para ello utilicé la herramienta de **blast**p de manera local con el siguiente comando:\n",
        "```\n",
        "$ blastp -query CP053918.1.pep -db DataBase/UniprotSequences -evalue 1e-9 -num_threads 8 -outfmt 11 -out blastp_out_file.asn\n",
        "```\n",
        "**2)** Para **formatear** el resultado y obtener un archivo con la información de:\n",
        "\n",
        "*   qseqid: Seq-id del query\n",
        "*   qlen: Longitud del query\n",
        "*   sseqid: Seq-id del subject\n",
        "*   slen: Longitud del subject\n",
        "*   qstart: Inicio de la alineación del query\n",
        "*   qend: Fin de la alineación del query\n",
        "*   sstart: Inicio de la alineación del subject\n",
        "*   send: Fin de la alineación del subject\n",
        "*   evalue\n",
        "*   score\n",
        "*   length: Longitud de la alineación\n",
        "*   pident: Porcentaje de coincidencias idénticas\n",
        "*   qcovs: Cobertura del query per subject\n",
        "*   positive: Número de scoring positivos\n",
        "\n",
        "Para ello ocupé el siguiente comando:\n",
        "```\n",
        "$ blast_formatter -archive blastp_out_file.asn -outfmt '6 qseqid qlen sseqid slen qstart qend sstart send evalue score length pident qcovs positive' -out blastp_out_file.tsv\n",
        "```"
      ],
      "metadata": {
        "id": "iJyHvhJ816J6"
      }
    },
    {
      "cell_type": "markdown",
      "source": [
        "### <font color=purple>**7. Análisis de los resultado Blastp**"
      ],
      "metadata": {
        "id": "4yy5xgBz_3SR"
      }
    },
    {
      "cell_type": "markdown",
      "source": [
        "Los resultados del análisis blastp están en el archivo **blastp_out_file.tsv**, pero hay que agregar los nombres de las columnas. Para agregarlas, importé la tabla a un dataframe de pandas y asigné los nombres al definir la variable **blastp_out_format**. Después cargo la tabla y le agregó los nombres de las columnas."
      ],
      "metadata": {
        "id": "nSdMWd5HBGck"
      }
    },
    {
      "cell_type": "code",
      "source": [
        "blast_out_format = \"6 qseqid qlen sseqid slen qstart qend sstart send evalue score length pident qcovs positive\"\n",
        "blast_out_format"
      ],
      "metadata": {
        "colab": {
          "base_uri": "https://localhost:8080/",
          "height": 36
        },
        "id": "JOA1jFjVCz1j",
        "outputId": "721a4870-43e7-46a2-ce5a-99ffdec6669e"
      },
      "execution_count": 14,
      "outputs": [
        {
          "output_type": "execute_result",
          "data": {
            "text/plain": [
              "'6 qseqid qlen sseqid slen qstart qend sstart send evalue score length pident qcovs positive'"
            ],
            "application/vnd.google.colaboratory.intrinsic+json": {
              "type": "string"
            }
          },
          "metadata": {},
          "execution_count": 14
        }
      ]
    },
    {
      "cell_type": "code",
      "source": [
        "blastp_column_names = blast_out_format.split(\" \")[1:]\n",
        "blastp_df = pd.read_csv(\"/content/blastp_out_file.tsv\", sep=\"\\t\", names=blastp_column_names)\n",
        "blastp_df.head(6)"
      ],
      "metadata": {
        "colab": {
          "base_uri": "https://localhost:8080/",
          "height": 237
        },
        "id": "TxzhRXWCCqgh",
        "outputId": "8c87288a-4aef-4653-9449-1e05b02f217d"
      },
      "execution_count": 18,
      "outputs": [
        {
          "output_type": "execute_result",
          "data": {
            "text/plain": [
              "     qseqid  qlen                sseqid  slen  qstart  qend  sstart  send  \\\n",
              "0  Smir_184   488  sp|P07268|PRZN_SERME   487       1   487       1   487   \n",
              "1  Smir_184   488  sp|P23694|PRZN_SERMA   487       1   487       1   487   \n",
              "2  Smir_184   488  sp|P19144|PRTX_DICCH   478      14   487      15   478   \n",
              "3  Smir_184   488  sp|Q07295|PRTA_DICCH   472      25   487      25   472   \n",
              "4  Smir_184   488  sp|P16317|PRTC_DICCH   479      16   487      18   479   \n",
              "5  Smir_184   488  sp|P16316|PRTB_DICCH   481       1   487       1   481   \n",
              "\n",
              "   evalue  score  length  pident  qcovs  positive  \n",
              "0     0.0   2542     487  99.384     99       486  \n",
              "1     0.0   2519     487  98.768     99       483  \n",
              "2     0.0   1590     474  64.557     97       373  \n",
              "3     0.0   1510     463  63.715     95       357  \n",
              "4     0.0   1510     472  62.076     97       366  \n",
              "5     0.0   1396     491  58.452     99       363  "
            ],
            "text/html": [
              "\n",
              "  <div id=\"df-8768da2c-2838-4a2f-b8ef-082ffa9a70bd\">\n",
              "    <div class=\"colab-df-container\">\n",
              "      <div>\n",
              "<style scoped>\n",
              "    .dataframe tbody tr th:only-of-type {\n",
              "        vertical-align: middle;\n",
              "    }\n",
              "\n",
              "    .dataframe tbody tr th {\n",
              "        vertical-align: top;\n",
              "    }\n",
              "\n",
              "    .dataframe thead th {\n",
              "        text-align: right;\n",
              "    }\n",
              "</style>\n",
              "<table border=\"1\" class=\"dataframe\">\n",
              "  <thead>\n",
              "    <tr style=\"text-align: right;\">\n",
              "      <th></th>\n",
              "      <th>qseqid</th>\n",
              "      <th>qlen</th>\n",
              "      <th>sseqid</th>\n",
              "      <th>slen</th>\n",
              "      <th>qstart</th>\n",
              "      <th>qend</th>\n",
              "      <th>sstart</th>\n",
              "      <th>send</th>\n",
              "      <th>evalue</th>\n",
              "      <th>score</th>\n",
              "      <th>length</th>\n",
              "      <th>pident</th>\n",
              "      <th>qcovs</th>\n",
              "      <th>positive</th>\n",
              "    </tr>\n",
              "  </thead>\n",
              "  <tbody>\n",
              "    <tr>\n",
              "      <th>0</th>\n",
              "      <td>Smir_184</td>\n",
              "      <td>488</td>\n",
              "      <td>sp|P07268|PRZN_SERME</td>\n",
              "      <td>487</td>\n",
              "      <td>1</td>\n",
              "      <td>487</td>\n",
              "      <td>1</td>\n",
              "      <td>487</td>\n",
              "      <td>0.0</td>\n",
              "      <td>2542</td>\n",
              "      <td>487</td>\n",
              "      <td>99.384</td>\n",
              "      <td>99</td>\n",
              "      <td>486</td>\n",
              "    </tr>\n",
              "    <tr>\n",
              "      <th>1</th>\n",
              "      <td>Smir_184</td>\n",
              "      <td>488</td>\n",
              "      <td>sp|P23694|PRZN_SERMA</td>\n",
              "      <td>487</td>\n",
              "      <td>1</td>\n",
              "      <td>487</td>\n",
              "      <td>1</td>\n",
              "      <td>487</td>\n",
              "      <td>0.0</td>\n",
              "      <td>2519</td>\n",
              "      <td>487</td>\n",
              "      <td>98.768</td>\n",
              "      <td>99</td>\n",
              "      <td>483</td>\n",
              "    </tr>\n",
              "    <tr>\n",
              "      <th>2</th>\n",
              "      <td>Smir_184</td>\n",
              "      <td>488</td>\n",
              "      <td>sp|P19144|PRTX_DICCH</td>\n",
              "      <td>478</td>\n",
              "      <td>14</td>\n",
              "      <td>487</td>\n",
              "      <td>15</td>\n",
              "      <td>478</td>\n",
              "      <td>0.0</td>\n",
              "      <td>1590</td>\n",
              "      <td>474</td>\n",
              "      <td>64.557</td>\n",
              "      <td>97</td>\n",
              "      <td>373</td>\n",
              "    </tr>\n",
              "    <tr>\n",
              "      <th>3</th>\n",
              "      <td>Smir_184</td>\n",
              "      <td>488</td>\n",
              "      <td>sp|Q07295|PRTA_DICCH</td>\n",
              "      <td>472</td>\n",
              "      <td>25</td>\n",
              "      <td>487</td>\n",
              "      <td>25</td>\n",
              "      <td>472</td>\n",
              "      <td>0.0</td>\n",
              "      <td>1510</td>\n",
              "      <td>463</td>\n",
              "      <td>63.715</td>\n",
              "      <td>95</td>\n",
              "      <td>357</td>\n",
              "    </tr>\n",
              "    <tr>\n",
              "      <th>4</th>\n",
              "      <td>Smir_184</td>\n",
              "      <td>488</td>\n",
              "      <td>sp|P16317|PRTC_DICCH</td>\n",
              "      <td>479</td>\n",
              "      <td>16</td>\n",
              "      <td>487</td>\n",
              "      <td>18</td>\n",
              "      <td>479</td>\n",
              "      <td>0.0</td>\n",
              "      <td>1510</td>\n",
              "      <td>472</td>\n",
              "      <td>62.076</td>\n",
              "      <td>97</td>\n",
              "      <td>366</td>\n",
              "    </tr>\n",
              "    <tr>\n",
              "      <th>5</th>\n",
              "      <td>Smir_184</td>\n",
              "      <td>488</td>\n",
              "      <td>sp|P16316|PRTB_DICCH</td>\n",
              "      <td>481</td>\n",
              "      <td>1</td>\n",
              "      <td>487</td>\n",
              "      <td>1</td>\n",
              "      <td>481</td>\n",
              "      <td>0.0</td>\n",
              "      <td>1396</td>\n",
              "      <td>491</td>\n",
              "      <td>58.452</td>\n",
              "      <td>99</td>\n",
              "      <td>363</td>\n",
              "    </tr>\n",
              "  </tbody>\n",
              "</table>\n",
              "</div>\n",
              "      <button class=\"colab-df-convert\" onclick=\"convertToInteractive('df-8768da2c-2838-4a2f-b8ef-082ffa9a70bd')\"\n",
              "              title=\"Convert this dataframe to an interactive table.\"\n",
              "              style=\"display:none;\">\n",
              "        \n",
              "  <svg xmlns=\"http://www.w3.org/2000/svg\" height=\"24px\"viewBox=\"0 0 24 24\"\n",
              "       width=\"24px\">\n",
              "    <path d=\"M0 0h24v24H0V0z\" fill=\"none\"/>\n",
              "    <path d=\"M18.56 5.44l.94 2.06.94-2.06 2.06-.94-2.06-.94-.94-2.06-.94 2.06-2.06.94zm-11 1L8.5 8.5l.94-2.06 2.06-.94-2.06-.94L8.5 2.5l-.94 2.06-2.06.94zm10 10l.94 2.06.94-2.06 2.06-.94-2.06-.94-.94-2.06-.94 2.06-2.06.94z\"/><path d=\"M17.41 7.96l-1.37-1.37c-.4-.4-.92-.59-1.43-.59-.52 0-1.04.2-1.43.59L10.3 9.45l-7.72 7.72c-.78.78-.78 2.05 0 2.83L4 21.41c.39.39.9.59 1.41.59.51 0 1.02-.2 1.41-.59l7.78-7.78 2.81-2.81c.8-.78.8-2.07 0-2.86zM5.41 20L4 18.59l7.72-7.72 1.47 1.35L5.41 20z\"/>\n",
              "  </svg>\n",
              "      </button>\n",
              "      \n",
              "  <style>\n",
              "    .colab-df-container {\n",
              "      display:flex;\n",
              "      flex-wrap:wrap;\n",
              "      gap: 12px;\n",
              "    }\n",
              "\n",
              "    .colab-df-convert {\n",
              "      background-color: #E8F0FE;\n",
              "      border: none;\n",
              "      border-radius: 50%;\n",
              "      cursor: pointer;\n",
              "      display: none;\n",
              "      fill: #1967D2;\n",
              "      height: 32px;\n",
              "      padding: 0 0 0 0;\n",
              "      width: 32px;\n",
              "    }\n",
              "\n",
              "    .colab-df-convert:hover {\n",
              "      background-color: #E2EBFA;\n",
              "      box-shadow: 0px 1px 2px rgba(60, 64, 67, 0.3), 0px 1px 3px 1px rgba(60, 64, 67, 0.15);\n",
              "      fill: #174EA6;\n",
              "    }\n",
              "\n",
              "    [theme=dark] .colab-df-convert {\n",
              "      background-color: #3B4455;\n",
              "      fill: #D2E3FC;\n",
              "    }\n",
              "\n",
              "    [theme=dark] .colab-df-convert:hover {\n",
              "      background-color: #434B5C;\n",
              "      box-shadow: 0px 1px 3px 1px rgba(0, 0, 0, 0.15);\n",
              "      filter: drop-shadow(0px 1px 2px rgba(0, 0, 0, 0.3));\n",
              "      fill: #FFFFFF;\n",
              "    }\n",
              "  </style>\n",
              "\n",
              "      <script>\n",
              "        const buttonEl =\n",
              "          document.querySelector('#df-8768da2c-2838-4a2f-b8ef-082ffa9a70bd button.colab-df-convert');\n",
              "        buttonEl.style.display =\n",
              "          google.colab.kernel.accessAllowed ? 'block' : 'none';\n",
              "\n",
              "        async function convertToInteractive(key) {\n",
              "          const element = document.querySelector('#df-8768da2c-2838-4a2f-b8ef-082ffa9a70bd');\n",
              "          const dataTable =\n",
              "            await google.colab.kernel.invokeFunction('convertToInteractive',\n",
              "                                                     [key], {});\n",
              "          if (!dataTable) return;\n",
              "\n",
              "          const docLinkHtml = 'Like what you see? Visit the ' +\n",
              "            '<a target=\"_blank\" href=https://colab.research.google.com/notebooks/data_table.ipynb>data table notebook</a>'\n",
              "            + ' to learn more about interactive tables.';\n",
              "          element.innerHTML = '';\n",
              "          dataTable['output_type'] = 'display_data';\n",
              "          await google.colab.output.renderOutput(dataTable, element);\n",
              "          const docLink = document.createElement('div');\n",
              "          docLink.innerHTML = docLinkHtml;\n",
              "          element.appendChild(docLink);\n",
              "        }\n",
              "      </script>\n",
              "    </div>\n",
              "  </div>\n",
              "  "
            ]
          },
          "metadata": {},
          "execution_count": 18
        }
      ]
    },
    {
      "cell_type": "markdown",
      "source": [
        "Como resultado obtuve 5 genes del genoma de *Serratia marcescens* que codifican proteínas homólogas a **serralisinas** **[Smir_184, Smir_2059, Smir_2176, Smir_2296, Smir_3145]**. Estas cinco proteínas tuvieron similitudes con **27** secuencias de la base de secuencias de referencia de UniprotKB."
      ],
      "metadata": {
        "id": "XoDtmzP4Et_7"
      }
    },
    {
      "cell_type": "code",
      "source": [
        "candidate_genes = blastp_df[\"qseqid\"].unique().tolist()\n",
        "candidate_genes"
      ],
      "metadata": {
        "colab": {
          "base_uri": "https://localhost:8080/"
        },
        "id": "0kFWlJX5EhTQ",
        "outputId": "b151301c-4fc6-49a0-bfdb-ebf6709b5283"
      },
      "execution_count": 19,
      "outputs": [
        {
          "output_type": "execute_result",
          "data": {
            "text/plain": [
              "['Smir_184', 'Smir_2059', 'Smir_2176', 'Smir_2296', 'Smir_3145']"
            ]
          },
          "metadata": {},
          "execution_count": 19
        }
      ]
    },
    {
      "cell_type": "code",
      "source": [
        "genes_refseq =blastp_df[\"sseqid\"].unique().tolist()\n",
        "len(genes_refseq)"
      ],
      "metadata": {
        "colab": {
          "base_uri": "https://localhost:8080/"
        },
        "id": "WcDqTPpkEJMn",
        "outputId": "71e2ea64-68ac-47d4-9ef9-70a6214f6233"
      },
      "execution_count": 20,
      "outputs": [
        {
          "output_type": "execute_result",
          "data": {
            "text/plain": [
              "27"
            ]
          },
          "metadata": {},
          "execution_count": 20
        }
      ]
    },
    {
      "cell_type": "markdown",
      "source": [
        "### <font color=purple>**8. Visualización preliminar de los datos**"
      ],
      "metadata": {
        "id": "2fM3PlBCGXv3"
      }
    },
    {
      "cell_type": "markdown",
      "source": [
        "Los genes bacterianos están organizados en operones, o grupos de genes corregulados. Con la biblioteca **pyCirclize** visualicé los genes que fueron anotados en el paso anterior.\n",
        "\n",
        "Para ello transformé la información a un formato legible para **pyCirclize**:\n",
        "\n",
        "**1)** Transformé la información del gff en un dataframe:"
      ],
      "metadata": {
        "id": "lyycIg2ZGbRh"
      }
    },
    {
      "cell_type": "code",
      "source": [
        "gff_columns = [\"chr\",\"source\",\"feature_type\",\"start\",\"end\",\"score\",\"strand\",\"phase\",\"info\"]\n",
        "gff_df = pd.read_csv(\"/content/CP053918.1.gff\", sep=\"\\t\", comment=\"#\", header=None, names=gff_columns)\n",
        "gff_df[\"start\"] = gff_df[\"start\"].astype(int)\n",
        "gff_df[\"end\"]   = gff_df[\"end\"].astype(int)"
      ],
      "metadata": {
        "id": "AIhEnIg5KSis"
      },
      "execution_count": 21,
      "outputs": []
    },
    {
      "cell_type": "code",
      "source": [
        "gff_df"
      ],
      "metadata": {
        "colab": {
          "base_uri": "https://localhost:8080/",
          "height": 423
        },
        "id": "nlDXpNe1KkvU",
        "outputId": "7a1f19d0-6c46-4402-f0b3-864cea0d2bb1"
      },
      "execution_count": 22,
      "outputs": [
        {
          "output_type": "execute_result",
          "data": {
            "text/plain": [
              "       chr            source feature_type    start      end  score strand  \\\n",
              "0     Smir  pyrodigal_v2.1.0          CDS        1     1407  232.8      +   \n",
              "1     Smir  pyrodigal_v2.1.0          CDS     1412     2512  244.8      +   \n",
              "2     Smir  pyrodigal_v2.1.0          CDS     2558     3643  170.9      +   \n",
              "3     Smir  pyrodigal_v2.1.0          CDS     3662     6076  568.6      +   \n",
              "4     Smir  pyrodigal_v2.1.0          CDS     6203     7018  183.6      +   \n",
              "...    ...               ...          ...      ...      ...    ...    ...   \n",
              "4758  Smir  pyrodigal_v2.1.0          CDS  5164894  5165619   88.6      -   \n",
              "4759  Smir  pyrodigal_v2.1.0          CDS  5165715  5167028  107.6      -   \n",
              "4760  Smir  pyrodigal_v2.1.0          CDS  5167140  5168504  277.2      -   \n",
              "4761  Smir  pyrodigal_v2.1.0          CDS  5168601  5170238  366.0      -   \n",
              "4762  Smir  pyrodigal_v2.1.0          CDS  5170462  5170788    8.9      -   \n",
              "\n",
              "      phase                                               info  \n",
              "0         0  ID=Smir_1;partial=10;start_type=Edge;rbs_motif...  \n",
              "1         0  ID=Smir_2;partial=00;start_type=ATG;rbs_motif=...  \n",
              "2         0  ID=Smir_3;partial=00;start_type=ATG;rbs_motif=...  \n",
              "3         0  ID=Smir_4;partial=00;start_type=ATG;rbs_motif=...  \n",
              "4         0  ID=Smir_5;partial=00;start_type=ATG;rbs_motif=...  \n",
              "...     ...                                                ...  \n",
              "4758      0  ID=Smir_4759;partial=00;start_type=ATG;rbs_mot...  \n",
              "4759      0  ID=Smir_4760;partial=00;start_type=ATG;rbs_mot...  \n",
              "4760      0  ID=Smir_4761;partial=00;start_type=ATG;rbs_mot...  \n",
              "4761      0  ID=Smir_4762;partial=00;start_type=ATG;rbs_mot...  \n",
              "4762      0  ID=Smir_4763;partial=00;start_type=TTG;rbs_mot...  \n",
              "\n",
              "[4763 rows x 9 columns]"
            ],
            "text/html": [
              "\n",
              "  <div id=\"df-8272528e-08a8-4394-aa40-c514c167eb06\">\n",
              "    <div class=\"colab-df-container\">\n",
              "      <div>\n",
              "<style scoped>\n",
              "    .dataframe tbody tr th:only-of-type {\n",
              "        vertical-align: middle;\n",
              "    }\n",
              "\n",
              "    .dataframe tbody tr th {\n",
              "        vertical-align: top;\n",
              "    }\n",
              "\n",
              "    .dataframe thead th {\n",
              "        text-align: right;\n",
              "    }\n",
              "</style>\n",
              "<table border=\"1\" class=\"dataframe\">\n",
              "  <thead>\n",
              "    <tr style=\"text-align: right;\">\n",
              "      <th></th>\n",
              "      <th>chr</th>\n",
              "      <th>source</th>\n",
              "      <th>feature_type</th>\n",
              "      <th>start</th>\n",
              "      <th>end</th>\n",
              "      <th>score</th>\n",
              "      <th>strand</th>\n",
              "      <th>phase</th>\n",
              "      <th>info</th>\n",
              "    </tr>\n",
              "  </thead>\n",
              "  <tbody>\n",
              "    <tr>\n",
              "      <th>0</th>\n",
              "      <td>Smir</td>\n",
              "      <td>pyrodigal_v2.1.0</td>\n",
              "      <td>CDS</td>\n",
              "      <td>1</td>\n",
              "      <td>1407</td>\n",
              "      <td>232.8</td>\n",
              "      <td>+</td>\n",
              "      <td>0</td>\n",
              "      <td>ID=Smir_1;partial=10;start_type=Edge;rbs_motif...</td>\n",
              "    </tr>\n",
              "    <tr>\n",
              "      <th>1</th>\n",
              "      <td>Smir</td>\n",
              "      <td>pyrodigal_v2.1.0</td>\n",
              "      <td>CDS</td>\n",
              "      <td>1412</td>\n",
              "      <td>2512</td>\n",
              "      <td>244.8</td>\n",
              "      <td>+</td>\n",
              "      <td>0</td>\n",
              "      <td>ID=Smir_2;partial=00;start_type=ATG;rbs_motif=...</td>\n",
              "    </tr>\n",
              "    <tr>\n",
              "      <th>2</th>\n",
              "      <td>Smir</td>\n",
              "      <td>pyrodigal_v2.1.0</td>\n",
              "      <td>CDS</td>\n",
              "      <td>2558</td>\n",
              "      <td>3643</td>\n",
              "      <td>170.9</td>\n",
              "      <td>+</td>\n",
              "      <td>0</td>\n",
              "      <td>ID=Smir_3;partial=00;start_type=ATG;rbs_motif=...</td>\n",
              "    </tr>\n",
              "    <tr>\n",
              "      <th>3</th>\n",
              "      <td>Smir</td>\n",
              "      <td>pyrodigal_v2.1.0</td>\n",
              "      <td>CDS</td>\n",
              "      <td>3662</td>\n",
              "      <td>6076</td>\n",
              "      <td>568.6</td>\n",
              "      <td>+</td>\n",
              "      <td>0</td>\n",
              "      <td>ID=Smir_4;partial=00;start_type=ATG;rbs_motif=...</td>\n",
              "    </tr>\n",
              "    <tr>\n",
              "      <th>4</th>\n",
              "      <td>Smir</td>\n",
              "      <td>pyrodigal_v2.1.0</td>\n",
              "      <td>CDS</td>\n",
              "      <td>6203</td>\n",
              "      <td>7018</td>\n",
              "      <td>183.6</td>\n",
              "      <td>+</td>\n",
              "      <td>0</td>\n",
              "      <td>ID=Smir_5;partial=00;start_type=ATG;rbs_motif=...</td>\n",
              "    </tr>\n",
              "    <tr>\n",
              "      <th>...</th>\n",
              "      <td>...</td>\n",
              "      <td>...</td>\n",
              "      <td>...</td>\n",
              "      <td>...</td>\n",
              "      <td>...</td>\n",
              "      <td>...</td>\n",
              "      <td>...</td>\n",
              "      <td>...</td>\n",
              "      <td>...</td>\n",
              "    </tr>\n",
              "    <tr>\n",
              "      <th>4758</th>\n",
              "      <td>Smir</td>\n",
              "      <td>pyrodigal_v2.1.0</td>\n",
              "      <td>CDS</td>\n",
              "      <td>5164894</td>\n",
              "      <td>5165619</td>\n",
              "      <td>88.6</td>\n",
              "      <td>-</td>\n",
              "      <td>0</td>\n",
              "      <td>ID=Smir_4759;partial=00;start_type=ATG;rbs_mot...</td>\n",
              "    </tr>\n",
              "    <tr>\n",
              "      <th>4759</th>\n",
              "      <td>Smir</td>\n",
              "      <td>pyrodigal_v2.1.0</td>\n",
              "      <td>CDS</td>\n",
              "      <td>5165715</td>\n",
              "      <td>5167028</td>\n",
              "      <td>107.6</td>\n",
              "      <td>-</td>\n",
              "      <td>0</td>\n",
              "      <td>ID=Smir_4760;partial=00;start_type=ATG;rbs_mot...</td>\n",
              "    </tr>\n",
              "    <tr>\n",
              "      <th>4760</th>\n",
              "      <td>Smir</td>\n",
              "      <td>pyrodigal_v2.1.0</td>\n",
              "      <td>CDS</td>\n",
              "      <td>5167140</td>\n",
              "      <td>5168504</td>\n",
              "      <td>277.2</td>\n",
              "      <td>-</td>\n",
              "      <td>0</td>\n",
              "      <td>ID=Smir_4761;partial=00;start_type=ATG;rbs_mot...</td>\n",
              "    </tr>\n",
              "    <tr>\n",
              "      <th>4761</th>\n",
              "      <td>Smir</td>\n",
              "      <td>pyrodigal_v2.1.0</td>\n",
              "      <td>CDS</td>\n",
              "      <td>5168601</td>\n",
              "      <td>5170238</td>\n",
              "      <td>366.0</td>\n",
              "      <td>-</td>\n",
              "      <td>0</td>\n",
              "      <td>ID=Smir_4762;partial=00;start_type=ATG;rbs_mot...</td>\n",
              "    </tr>\n",
              "    <tr>\n",
              "      <th>4762</th>\n",
              "      <td>Smir</td>\n",
              "      <td>pyrodigal_v2.1.0</td>\n",
              "      <td>CDS</td>\n",
              "      <td>5170462</td>\n",
              "      <td>5170788</td>\n",
              "      <td>8.9</td>\n",
              "      <td>-</td>\n",
              "      <td>0</td>\n",
              "      <td>ID=Smir_4763;partial=00;start_type=TTG;rbs_mot...</td>\n",
              "    </tr>\n",
              "  </tbody>\n",
              "</table>\n",
              "<p>4763 rows × 9 columns</p>\n",
              "</div>\n",
              "      <button class=\"colab-df-convert\" onclick=\"convertToInteractive('df-8272528e-08a8-4394-aa40-c514c167eb06')\"\n",
              "              title=\"Convert this dataframe to an interactive table.\"\n",
              "              style=\"display:none;\">\n",
              "        \n",
              "  <svg xmlns=\"http://www.w3.org/2000/svg\" height=\"24px\"viewBox=\"0 0 24 24\"\n",
              "       width=\"24px\">\n",
              "    <path d=\"M0 0h24v24H0V0z\" fill=\"none\"/>\n",
              "    <path d=\"M18.56 5.44l.94 2.06.94-2.06 2.06-.94-2.06-.94-.94-2.06-.94 2.06-2.06.94zm-11 1L8.5 8.5l.94-2.06 2.06-.94-2.06-.94L8.5 2.5l-.94 2.06-2.06.94zm10 10l.94 2.06.94-2.06 2.06-.94-2.06-.94-.94-2.06-.94 2.06-2.06.94z\"/><path d=\"M17.41 7.96l-1.37-1.37c-.4-.4-.92-.59-1.43-.59-.52 0-1.04.2-1.43.59L10.3 9.45l-7.72 7.72c-.78.78-.78 2.05 0 2.83L4 21.41c.39.39.9.59 1.41.59.51 0 1.02-.2 1.41-.59l7.78-7.78 2.81-2.81c.8-.78.8-2.07 0-2.86zM5.41 20L4 18.59l7.72-7.72 1.47 1.35L5.41 20z\"/>\n",
              "  </svg>\n",
              "      </button>\n",
              "      \n",
              "  <style>\n",
              "    .colab-df-container {\n",
              "      display:flex;\n",
              "      flex-wrap:wrap;\n",
              "      gap: 12px;\n",
              "    }\n",
              "\n",
              "    .colab-df-convert {\n",
              "      background-color: #E8F0FE;\n",
              "      border: none;\n",
              "      border-radius: 50%;\n",
              "      cursor: pointer;\n",
              "      display: none;\n",
              "      fill: #1967D2;\n",
              "      height: 32px;\n",
              "      padding: 0 0 0 0;\n",
              "      width: 32px;\n",
              "    }\n",
              "\n",
              "    .colab-df-convert:hover {\n",
              "      background-color: #E2EBFA;\n",
              "      box-shadow: 0px 1px 2px rgba(60, 64, 67, 0.3), 0px 1px 3px 1px rgba(60, 64, 67, 0.15);\n",
              "      fill: #174EA6;\n",
              "    }\n",
              "\n",
              "    [theme=dark] .colab-df-convert {\n",
              "      background-color: #3B4455;\n",
              "      fill: #D2E3FC;\n",
              "    }\n",
              "\n",
              "    [theme=dark] .colab-df-convert:hover {\n",
              "      background-color: #434B5C;\n",
              "      box-shadow: 0px 1px 3px 1px rgba(0, 0, 0, 0.15);\n",
              "      filter: drop-shadow(0px 1px 2px rgba(0, 0, 0, 0.3));\n",
              "      fill: #FFFFFF;\n",
              "    }\n",
              "  </style>\n",
              "\n",
              "      <script>\n",
              "        const buttonEl =\n",
              "          document.querySelector('#df-8272528e-08a8-4394-aa40-c514c167eb06 button.colab-df-convert');\n",
              "        buttonEl.style.display =\n",
              "          google.colab.kernel.accessAllowed ? 'block' : 'none';\n",
              "\n",
              "        async function convertToInteractive(key) {\n",
              "          const element = document.querySelector('#df-8272528e-08a8-4394-aa40-c514c167eb06');\n",
              "          const dataTable =\n",
              "            await google.colab.kernel.invokeFunction('convertToInteractive',\n",
              "                                                     [key], {});\n",
              "          if (!dataTable) return;\n",
              "\n",
              "          const docLinkHtml = 'Like what you see? Visit the ' +\n",
              "            '<a target=\"_blank\" href=https://colab.research.google.com/notebooks/data_table.ipynb>data table notebook</a>'\n",
              "            + ' to learn more about interactive tables.';\n",
              "          element.innerHTML = '';\n",
              "          dataTable['output_type'] = 'display_data';\n",
              "          await google.colab.output.renderOutput(dataTable, element);\n",
              "          const docLink = document.createElement('div');\n",
              "          docLink.innerHTML = docLinkHtml;\n",
              "          element.appendChild(docLink);\n",
              "        }\n",
              "      </script>\n",
              "    </div>\n",
              "  </div>\n",
              "  "
            ]
          },
          "metadata": {},
          "execution_count": 22
        }
      ]
    },
    {
      "cell_type": "markdown",
      "source": [
        "**2)** Obtención de información adicional del dataframe gff_df"
      ],
      "metadata": {
        "id": "Ms21olfWLMWl"
      }
    },
    {
      "cell_type": "code",
      "source": [
        "def get_gff_info(info_str):\n",
        "    out_dict = {}\n",
        "    info_arr = info_str.split(\";\")\n",
        "    for line in info_arr:\n",
        "        if \"=\" in line:\n",
        "            line_arr    = line.split(\"=\")\n",
        "            field_name  = line_arr[0]\n",
        "            field_value = line_arr[1]\n",
        "            out_dict[field_name] = field_value\n",
        "    return out_dict"
      ],
      "metadata": {
        "id": "dModff4fLgEN"
      },
      "execution_count": null,
      "outputs": []
    },
    {
      "cell_type": "code",
      "source": [
        "gff_df[\"annotation\"] = gff_df[\"info\"].apply(lambda x: get_gff_info(x))\n",
        "gff_df[\"annotation\"]"
      ],
      "metadata": {
        "colab": {
          "base_uri": "https://localhost:8080/"
        },
        "id": "aLLclZyTLlxW",
        "outputId": "a8986468-5f73-4f6f-cde6-696a09836750"
      },
      "execution_count": null,
      "outputs": [
        {
          "output_type": "execute_result",
          "data": {
            "text/plain": [
              "0       {'ID': 'Smir_1', 'partial': '10', 'start_type'...\n",
              "1       {'ID': 'Smir_2', 'partial': '00', 'start_type'...\n",
              "2       {'ID': 'Smir_3', 'partial': '00', 'start_type'...\n",
              "3       {'ID': 'Smir_4', 'partial': '00', 'start_type'...\n",
              "4       {'ID': 'Smir_5', 'partial': '00', 'start_type'...\n",
              "                              ...                        \n",
              "4758    {'ID': 'Smir_4759', 'partial': '00', 'start_ty...\n",
              "4759    {'ID': 'Smir_4760', 'partial': '00', 'start_ty...\n",
              "4760    {'ID': 'Smir_4761', 'partial': '00', 'start_ty...\n",
              "4761    {'ID': 'Smir_4762', 'partial': '00', 'start_ty...\n",
              "4762    {'ID': 'Smir_4763', 'partial': '00', 'start_ty...\n",
              "Name: annotation, Length: 4763, dtype: object"
            ]
          },
          "metadata": {},
          "execution_count": 19
        }
      ]
    },
    {
      "cell_type": "markdown",
      "source": [
        "**3)** Filtrado de datos para incluir solamente los genes relacionados con serralisinas"
      ],
      "metadata": {
        "id": "S5_ma5UILfFi"
      }
    },
    {
      "cell_type": "code",
      "source": [
        "gff_df[\"candidate\"] = gff_df[\"annotation\"].apply(lambda x: \"include\" if x[\"ID\"] in candidate_genes else \"exclude\")"
      ],
      "metadata": {
        "id": "bXzMbn40Lvls"
      },
      "execution_count": null,
      "outputs": []
    },
    {
      "cell_type": "markdown",
      "source": [
        "**4)** El resultado lo almacenamos en un nuevo archivo gff para que pyCirclize visualice unicamente los genes de interés"
      ],
      "metadata": {
        "id": "NUOvmBf8L5Lx"
      }
    },
    {
      "cell_type": "code",
      "source": [
        "candidate_df = gff_df.copy()\n",
        "candidate_df = candidate_df[candidate_df[\"candidate\"]==\"include\"][gff_columns]\n",
        "candidate_df.to_csv(\"/content/candidates.gff\", sep=\"\\t\", header=False,index=False)"
      ],
      "metadata": {
        "id": "NJDb-MMnL55e"
      },
      "execution_count": null,
      "outputs": []
    },
    {
      "cell_type": "code",
      "source": [
        "candidate_df"
      ],
      "metadata": {
        "colab": {
          "base_uri": "https://localhost:8080/",
          "height": 206
        },
        "id": "riqoVLZRMLd_",
        "outputId": "9c50edd4-0a85-44b9-d311-16ec072c53a7"
      },
      "execution_count": null,
      "outputs": [
        {
          "output_type": "execute_result",
          "data": {
            "text/plain": [
              "       chr            source feature_type    start      end  score strand  \\\n",
              "183   Smir  pyrodigal_v2.1.0          CDS   208566   210029  281.0      +   \n",
              "2058  Smir  pyrodigal_v2.1.0          CDS  2196840  2198258  290.2      +   \n",
              "2175  Smir  pyrodigal_v2.1.0          CDS  2320188  2322032  417.0      -   \n",
              "2295  Smir  pyrodigal_v2.1.0          CDS  2453645  2455261  385.7      +   \n",
              "3144  Smir  pyrodigal_v2.1.0          CDS  3391100  3392482  176.1      +   \n",
              "\n",
              "      phase                                               info  \n",
              "183       0  ID=Smir_184;partial=00;start_type=ATG;rbs_moti...  \n",
              "2058      0  ID=Smir_2059;partial=00;start_type=ATG;rbs_mot...  \n",
              "2175      0  ID=Smir_2176;partial=00;start_type=ATG;rbs_mot...  \n",
              "2295      0  ID=Smir_2296;partial=00;start_type=ATG;rbs_mot...  \n",
              "3144      0  ID=Smir_3145;partial=00;start_type=ATG;rbs_mot...  "
            ],
            "text/html": [
              "\n",
              "  <div id=\"df-909e61e0-8dbd-48f2-93ee-8995cb9d6b64\">\n",
              "    <div class=\"colab-df-container\">\n",
              "      <div>\n",
              "<style scoped>\n",
              "    .dataframe tbody tr th:only-of-type {\n",
              "        vertical-align: middle;\n",
              "    }\n",
              "\n",
              "    .dataframe tbody tr th {\n",
              "        vertical-align: top;\n",
              "    }\n",
              "\n",
              "    .dataframe thead th {\n",
              "        text-align: right;\n",
              "    }\n",
              "</style>\n",
              "<table border=\"1\" class=\"dataframe\">\n",
              "  <thead>\n",
              "    <tr style=\"text-align: right;\">\n",
              "      <th></th>\n",
              "      <th>chr</th>\n",
              "      <th>source</th>\n",
              "      <th>feature_type</th>\n",
              "      <th>start</th>\n",
              "      <th>end</th>\n",
              "      <th>score</th>\n",
              "      <th>strand</th>\n",
              "      <th>phase</th>\n",
              "      <th>info</th>\n",
              "    </tr>\n",
              "  </thead>\n",
              "  <tbody>\n",
              "    <tr>\n",
              "      <th>183</th>\n",
              "      <td>Smir</td>\n",
              "      <td>pyrodigal_v2.1.0</td>\n",
              "      <td>CDS</td>\n",
              "      <td>208566</td>\n",
              "      <td>210029</td>\n",
              "      <td>281.0</td>\n",
              "      <td>+</td>\n",
              "      <td>0</td>\n",
              "      <td>ID=Smir_184;partial=00;start_type=ATG;rbs_moti...</td>\n",
              "    </tr>\n",
              "    <tr>\n",
              "      <th>2058</th>\n",
              "      <td>Smir</td>\n",
              "      <td>pyrodigal_v2.1.0</td>\n",
              "      <td>CDS</td>\n",
              "      <td>2196840</td>\n",
              "      <td>2198258</td>\n",
              "      <td>290.2</td>\n",
              "      <td>+</td>\n",
              "      <td>0</td>\n",
              "      <td>ID=Smir_2059;partial=00;start_type=ATG;rbs_mot...</td>\n",
              "    </tr>\n",
              "    <tr>\n",
              "      <th>2175</th>\n",
              "      <td>Smir</td>\n",
              "      <td>pyrodigal_v2.1.0</td>\n",
              "      <td>CDS</td>\n",
              "      <td>2320188</td>\n",
              "      <td>2322032</td>\n",
              "      <td>417.0</td>\n",
              "      <td>-</td>\n",
              "      <td>0</td>\n",
              "      <td>ID=Smir_2176;partial=00;start_type=ATG;rbs_mot...</td>\n",
              "    </tr>\n",
              "    <tr>\n",
              "      <th>2295</th>\n",
              "      <td>Smir</td>\n",
              "      <td>pyrodigal_v2.1.0</td>\n",
              "      <td>CDS</td>\n",
              "      <td>2453645</td>\n",
              "      <td>2455261</td>\n",
              "      <td>385.7</td>\n",
              "      <td>+</td>\n",
              "      <td>0</td>\n",
              "      <td>ID=Smir_2296;partial=00;start_type=ATG;rbs_mot...</td>\n",
              "    </tr>\n",
              "    <tr>\n",
              "      <th>3144</th>\n",
              "      <td>Smir</td>\n",
              "      <td>pyrodigal_v2.1.0</td>\n",
              "      <td>CDS</td>\n",
              "      <td>3391100</td>\n",
              "      <td>3392482</td>\n",
              "      <td>176.1</td>\n",
              "      <td>+</td>\n",
              "      <td>0</td>\n",
              "      <td>ID=Smir_3145;partial=00;start_type=ATG;rbs_mot...</td>\n",
              "    </tr>\n",
              "  </tbody>\n",
              "</table>\n",
              "</div>\n",
              "      <button class=\"colab-df-convert\" onclick=\"convertToInteractive('df-909e61e0-8dbd-48f2-93ee-8995cb9d6b64')\"\n",
              "              title=\"Convert this dataframe to an interactive table.\"\n",
              "              style=\"display:none;\">\n",
              "        \n",
              "  <svg xmlns=\"http://www.w3.org/2000/svg\" height=\"24px\"viewBox=\"0 0 24 24\"\n",
              "       width=\"24px\">\n",
              "    <path d=\"M0 0h24v24H0V0z\" fill=\"none\"/>\n",
              "    <path d=\"M18.56 5.44l.94 2.06.94-2.06 2.06-.94-2.06-.94-.94-2.06-.94 2.06-2.06.94zm-11 1L8.5 8.5l.94-2.06 2.06-.94-2.06-.94L8.5 2.5l-.94 2.06-2.06.94zm10 10l.94 2.06.94-2.06 2.06-.94-2.06-.94-.94-2.06-.94 2.06-2.06.94z\"/><path d=\"M17.41 7.96l-1.37-1.37c-.4-.4-.92-.59-1.43-.59-.52 0-1.04.2-1.43.59L10.3 9.45l-7.72 7.72c-.78.78-.78 2.05 0 2.83L4 21.41c.39.39.9.59 1.41.59.51 0 1.02-.2 1.41-.59l7.78-7.78 2.81-2.81c.8-.78.8-2.07 0-2.86zM5.41 20L4 18.59l7.72-7.72 1.47 1.35L5.41 20z\"/>\n",
              "  </svg>\n",
              "      </button>\n",
              "      \n",
              "  <style>\n",
              "    .colab-df-container {\n",
              "      display:flex;\n",
              "      flex-wrap:wrap;\n",
              "      gap: 12px;\n",
              "    }\n",
              "\n",
              "    .colab-df-convert {\n",
              "      background-color: #E8F0FE;\n",
              "      border: none;\n",
              "      border-radius: 50%;\n",
              "      cursor: pointer;\n",
              "      display: none;\n",
              "      fill: #1967D2;\n",
              "      height: 32px;\n",
              "      padding: 0 0 0 0;\n",
              "      width: 32px;\n",
              "    }\n",
              "\n",
              "    .colab-df-convert:hover {\n",
              "      background-color: #E2EBFA;\n",
              "      box-shadow: 0px 1px 2px rgba(60, 64, 67, 0.3), 0px 1px 3px 1px rgba(60, 64, 67, 0.15);\n",
              "      fill: #174EA6;\n",
              "    }\n",
              "\n",
              "    [theme=dark] .colab-df-convert {\n",
              "      background-color: #3B4455;\n",
              "      fill: #D2E3FC;\n",
              "    }\n",
              "\n",
              "    [theme=dark] .colab-df-convert:hover {\n",
              "      background-color: #434B5C;\n",
              "      box-shadow: 0px 1px 3px 1px rgba(0, 0, 0, 0.15);\n",
              "      filter: drop-shadow(0px 1px 2px rgba(0, 0, 0, 0.3));\n",
              "      fill: #FFFFFF;\n",
              "    }\n",
              "  </style>\n",
              "\n",
              "      <script>\n",
              "        const buttonEl =\n",
              "          document.querySelector('#df-909e61e0-8dbd-48f2-93ee-8995cb9d6b64 button.colab-df-convert');\n",
              "        buttonEl.style.display =\n",
              "          google.colab.kernel.accessAllowed ? 'block' : 'none';\n",
              "\n",
              "        async function convertToInteractive(key) {\n",
              "          const element = document.querySelector('#df-909e61e0-8dbd-48f2-93ee-8995cb9d6b64');\n",
              "          const dataTable =\n",
              "            await google.colab.kernel.invokeFunction('convertToInteractive',\n",
              "                                                     [key], {});\n",
              "          if (!dataTable) return;\n",
              "\n",
              "          const docLinkHtml = 'Like what you see? Visit the ' +\n",
              "            '<a target=\"_blank\" href=https://colab.research.google.com/notebooks/data_table.ipynb>data table notebook</a>'\n",
              "            + ' to learn more about interactive tables.';\n",
              "          element.innerHTML = '';\n",
              "          dataTable['output_type'] = 'display_data';\n",
              "          await google.colab.output.renderOutput(dataTable, element);\n",
              "          const docLink = document.createElement('div');\n",
              "          docLink.innerHTML = docLinkHtml;\n",
              "          element.appendChild(docLink);\n",
              "        }\n",
              "      </script>\n",
              "    </div>\n",
              "  </div>\n",
              "  "
            ]
          },
          "metadata": {},
          "execution_count": 22
        }
      ]
    },
    {
      "cell_type": "markdown",
      "source": [
        "<font color=purple>**8.1 Visualización de los datos con pyCirclize**"
      ],
      "metadata": {
        "id": "g1tFdJjrMYjQ"
      }
    },
    {
      "cell_type": "markdown",
      "source": [
        "Con el siguiente código construiremos distintos objetos para obtener un mapa circular que nos permitirá identificar manualmente potenciales operones en el genoma de Streptomyces sp."
      ],
      "metadata": {
        "id": "YBGKX_B_McN8"
      }
    },
    {
      "cell_type": "code",
      "source": [
        "circos = Circos(sectors={accession: genome_length})\n",
        "circos.text(\"Serratia marcescens\")\n",
        "circos_gff = Gff(gff_file=\"candidates.gff\")\n",
        "sector = circos.get_sector(accession)\n",
        "sector = circos.sectors[0]\n",
        "cds_track = sector.add_track((80, 100))\n",
        "cds_track.axis(fc=\"#EEEEEE\", ec=\"none\")\n",
        "cds_track.genomic_features(circos_gff.extract_features(\"CDS\", target_strand =  1), r_lim=(90, 100),fc=\"red\" )\n",
        "cds_track.genomic_features(circos_gff.extract_features(\"CDS\", target_strand = -1), r_lim=(80,  90),fc=\"blue\")\n",
        "pos_list, labels = [], []\n",
        "cds_track.xticks_by_interval(\n",
        "    interval=500000,\n",
        "    label_formatter=lambda label_value: f\"{label_value/ 1000000:.1f} Mb\",\n",
        "    label_orientation=\"vertical\")\n",
        "fig = circos.plotfig().set_figwidth(5)"
      ],
      "metadata": {
        "colab": {
          "base_uri": "https://localhost:8080/",
          "height": 594
        },
        "id": "yOeTxWLaMipe",
        "outputId": "b9ff4e5b-d6dd-4688-8fb9-3b7c8766b030"
      },
      "execution_count": null,
      "outputs": [
        {
          "output_type": "display_data",
          "data": {
            "text/plain": [
              "<Figure size 500x800 with 1 Axes>"
            ],
            "image/png": "[encoded data removed]"
          },
          "metadata": {
            "needs_background": "light"
          }
        }
      ]
    },
    {
      "cell_type": "markdown",
      "source": [
        "### <font color=purple>**9. Minería de proteínas homólogas a las secuencias de referencia relacionadas con serralysin**"
      ],
      "metadata": {
        "id": "8ewo6v9zPYMI"
      }
    },
    {
      "cell_type": "markdown",
      "source": [
        "Para obtener las secuencias de las proteínas seleccionadas y hacer futuros análisis, filtraré los operones en base a los datos del archivo de inicio, termino y sentido del gff obtenidos con pyCirclize\n",
        "\n",
        "**1)** Para ello, obtendré primero los IDs de las cinco secuencias:"
      ],
      "metadata": {
        "id": "VigO4P4tPzYO"
      }
    },
    {
      "cell_type": "code",
      "source": [
        "operon_df = gff_df.copy()\n",
        "operon_dfa = operon_df[(operon_df[\"start\"]     >= 208566) &\n",
        "                      (operon_df[\"end\"]       <= 210029) &\n",
        "                      (operon_df[\"strand\"]    == \"+\")     &\n",
        "                      (operon_df[\"candidate\"] == \"include\")]                                     \n",
        "operon_dfa.reset_index(drop=True, inplace=True)\n",
        "operon_dfa"
      ],
      "metadata": {
        "colab": {
          "base_uri": "https://localhost:8080/",
          "height": 81
        },
        "id": "2fTK_YNMIVLW",
        "outputId": "1ce8764e-0d13-4e8c-eb31-626db63fb460"
      },
      "execution_count": null,
      "outputs": [
        {
          "output_type": "execute_result",
          "data": {
            "text/plain": [
              "    chr            source feature_type   start     end  score strand  phase  \\\n",
              "0  Smir  pyrodigal_v2.1.0          CDS  208566  210029  281.0      +      0   \n",
              "\n",
              "                                                info  \\\n",
              "0  ID=Smir_184;partial=00;start_type=ATG;rbs_moti...   \n",
              "\n",
              "                                          annotation candidate  \n",
              "0  {'ID': 'Smir_184', 'partial': '00', 'start_typ...   include  "
            ],
            "text/html": [
              "\n",
              "  <div id=\"df-27953277-e6a6-47f1-9bec-ffc8fe4b6882\">\n",
              "    <div class=\"colab-df-container\">\n",
              "      <div>\n",
              "<style scoped>\n",
              "    .dataframe tbody tr th:only-of-type {\n",
              "        vertical-align: middle;\n",
              "    }\n",
              "\n",
              "    .dataframe tbody tr th {\n",
              "        vertical-align: top;\n",
              "    }\n",
              "\n",
              "    .dataframe thead th {\n",
              "        text-align: right;\n",
              "    }\n",
              "</style>\n",
              "<table border=\"1\" class=\"dataframe\">\n",
              "  <thead>\n",
              "    <tr style=\"text-align: right;\">\n",
              "      <th></th>\n",
              "      <th>chr</th>\n",
              "      <th>source</th>\n",
              "      <th>feature_type</th>\n",
              "      <th>start</th>\n",
              "      <th>end</th>\n",
              "      <th>score</th>\n",
              "      <th>strand</th>\n",
              "      <th>phase</th>\n",
              "      <th>info</th>\n",
              "      <th>annotation</th>\n",
              "      <th>candidate</th>\n",
              "    </tr>\n",
              "  </thead>\n",
              "  <tbody>\n",
              "    <tr>\n",
              "      <th>0</th>\n",
              "      <td>Smir</td>\n",
              "      <td>pyrodigal_v2.1.0</td>\n",
              "      <td>CDS</td>\n",
              "      <td>208566</td>\n",
              "      <td>210029</td>\n",
              "      <td>281.0</td>\n",
              "      <td>+</td>\n",
              "      <td>0</td>\n",
              "      <td>ID=Smir_184;partial=00;start_type=ATG;rbs_moti...</td>\n",
              "      <td>{'ID': 'Smir_184', 'partial': '00', 'start_typ...</td>\n",
              "      <td>include</td>\n",
              "    </tr>\n",
              "  </tbody>\n",
              "</table>\n",
              "</div>\n",
              "      <button class=\"colab-df-convert\" onclick=\"convertToInteractive('df-27953277-e6a6-47f1-9bec-ffc8fe4b6882')\"\n",
              "              title=\"Convert this dataframe to an interactive table.\"\n",
              "              style=\"display:none;\">\n",
              "        \n",
              "  <svg xmlns=\"http://www.w3.org/2000/svg\" height=\"24px\"viewBox=\"0 0 24 24\"\n",
              "       width=\"24px\">\n",
              "    <path d=\"M0 0h24v24H0V0z\" fill=\"none\"/>\n",
              "    <path d=\"M18.56 5.44l.94 2.06.94-2.06 2.06-.94-2.06-.94-.94-2.06-.94 2.06-2.06.94zm-11 1L8.5 8.5l.94-2.06 2.06-.94-2.06-.94L8.5 2.5l-.94 2.06-2.06.94zm10 10l.94 2.06.94-2.06 2.06-.94-2.06-.94-.94-2.06-.94 2.06-2.06.94z\"/><path d=\"M17.41 7.96l-1.37-1.37c-.4-.4-.92-.59-1.43-.59-.52 0-1.04.2-1.43.59L10.3 9.45l-7.72 7.72c-.78.78-.78 2.05 0 2.83L4 21.41c.39.39.9.59 1.41.59.51 0 1.02-.2 1.41-.59l7.78-7.78 2.81-2.81c.8-.78.8-2.07 0-2.86zM5.41 20L4 18.59l7.72-7.72 1.47 1.35L5.41 20z\"/>\n",
              "  </svg>\n",
              "      </button>\n",
              "      \n",
              "  <style>\n",
              "    .colab-df-container {\n",
              "      display:flex;\n",
              "      flex-wrap:wrap;\n",
              "      gap: 12px;\n",
              "    }\n",
              "\n",
              "    .colab-df-convert {\n",
              "      background-color: #E8F0FE;\n",
              "      border: none;\n",
              "      border-radius: 50%;\n",
              "      cursor: pointer;\n",
              "      display: none;\n",
              "      fill: #1967D2;\n",
              "      height: 32px;\n",
              "      padding: 0 0 0 0;\n",
              "      width: 32px;\n",
              "    }\n",
              "\n",
              "    .colab-df-convert:hover {\n",
              "      background-color: #E2EBFA;\n",
              "      box-shadow: 0px 1px 2px rgba(60, 64, 67, 0.3), 0px 1px 3px 1px rgba(60, 64, 67, 0.15);\n",
              "      fill: #174EA6;\n",
              "    }\n",
              "\n",
              "    [theme=dark] .colab-df-convert {\n",
              "      background-color: #3B4455;\n",
              "      fill: #D2E3FC;\n",
              "    }\n",
              "\n",
              "    [theme=dark] .colab-df-convert:hover {\n",
              "      background-color: #434B5C;\n",
              "      box-shadow: 0px 1px 3px 1px rgba(0, 0, 0, 0.15);\n",
              "      filter: drop-shadow(0px 1px 2px rgba(0, 0, 0, 0.3));\n",
              "      fill: #FFFFFF;\n",
              "    }\n",
              "  </style>\n",
              "\n",
              "      <script>\n",
              "        const buttonEl =\n",
              "          document.querySelector('#df-27953277-e6a6-47f1-9bec-ffc8fe4b6882 button.colab-df-convert');\n",
              "        buttonEl.style.display =\n",
              "          google.colab.kernel.accessAllowed ? 'block' : 'none';\n",
              "\n",
              "        async function convertToInteractive(key) {\n",
              "          const element = document.querySelector('#df-27953277-e6a6-47f1-9bec-ffc8fe4b6882');\n",
              "          const dataTable =\n",
              "            await google.colab.kernel.invokeFunction('convertToInteractive',\n",
              "                                                     [key], {});\n",
              "          if (!dataTable) return;\n",
              "\n",
              "          const docLinkHtml = 'Like what you see? Visit the ' +\n",
              "            '<a target=\"_blank\" href=https://colab.research.google.com/notebooks/data_table.ipynb>data table notebook</a>'\n",
              "            + ' to learn more about interactive tables.';\n",
              "          element.innerHTML = '';\n",
              "          dataTable['output_type'] = 'display_data';\n",
              "          await google.colab.output.renderOutput(dataTable, element);\n",
              "          const docLink = document.createElement('div');\n",
              "          docLink.innerHTML = docLinkHtml;\n",
              "          element.appendChild(docLink);\n",
              "        }\n",
              "      </script>\n",
              "    </div>\n",
              "  </div>\n",
              "  "
            ]
          },
          "metadata": {},
          "execution_count": 24
        }
      ]
    },
    {
      "cell_type": "code",
      "source": [
        "operon_dfb = operon_df[(operon_df[\"start\"]     >= 2196840) &\n",
        "                      (operon_df[\"end\"]       <= 2198258) &\n",
        "                      (operon_df[\"strand\"]    == \"+\")     &\n",
        "                      (operon_df[\"candidate\"] == \"include\")]                                     \n",
        "operon_dfb.reset_index(drop=True, inplace=True)\n",
        "operon_dfb"
      ],
      "metadata": {
        "colab": {
          "base_uri": "https://localhost:8080/",
          "height": 81
        },
        "id": "6aDbzcwBNd1B",
        "outputId": "d07d81c3-3ba1-4393-8e69-0a7f95c8d5bf"
      },
      "execution_count": null,
      "outputs": [
        {
          "output_type": "execute_result",
          "data": {
            "text/plain": [
              "    chr            source feature_type    start      end  score strand  phase  \\\n",
              "0  Smir  pyrodigal_v2.1.0          CDS  2196840  2198258  290.2      +      0   \n",
              "\n",
              "                                                info  \\\n",
              "0  ID=Smir_2059;partial=00;start_type=ATG;rbs_mot...   \n",
              "\n",
              "                                          annotation candidate  \n",
              "0  {'ID': 'Smir_2059', 'partial': '00', 'start_ty...   include  "
            ],
            "text/html": [
              "\n",
              "  <div id=\"df-bcddd36b-f510-44b0-987c-e42b7173771a\">\n",
              "    <div class=\"colab-df-container\">\n",
              "      <div>\n",
              "<style scoped>\n",
              "    .dataframe tbody tr th:only-of-type {\n",
              "        vertical-align: middle;\n",
              "    }\n",
              "\n",
              "    .dataframe tbody tr th {\n",
              "        vertical-align: top;\n",
              "    }\n",
              "\n",
              "    .dataframe thead th {\n",
              "        text-align: right;\n",
              "    }\n",
              "</style>\n",
              "<table border=\"1\" class=\"dataframe\">\n",
              "  <thead>\n",
              "    <tr style=\"text-align: right;\">\n",
              "      <th></th>\n",
              "      <th>chr</th>\n",
              "      <th>source</th>\n",
              "      <th>feature_type</th>\n",
              "      <th>start</th>\n",
              "      <th>end</th>\n",
              "      <th>score</th>\n",
              "      <th>strand</th>\n",
              "      <th>phase</th>\n",
              "      <th>info</th>\n",
              "      <th>annotation</th>\n",
              "      <th>candidate</th>\n",
              "    </tr>\n",
              "  </thead>\n",
              "  <tbody>\n",
              "    <tr>\n",
              "      <th>0</th>\n",
              "      <td>Smir</td>\n",
              "      <td>pyrodigal_v2.1.0</td>\n",
              "      <td>CDS</td>\n",
              "      <td>2196840</td>\n",
              "      <td>2198258</td>\n",
              "      <td>290.2</td>\n",
              "      <td>+</td>\n",
              "      <td>0</td>\n",
              "      <td>ID=Smir_2059;partial=00;start_type=ATG;rbs_mot...</td>\n",
              "      <td>{'ID': 'Smir_2059', 'partial': '00', 'start_ty...</td>\n",
              "      <td>include</td>\n",
              "    </tr>\n",
              "  </tbody>\n",
              "</table>\n",
              "</div>\n",
              "      <button class=\"colab-df-convert\" onclick=\"convertToInteractive('df-bcddd36b-f510-44b0-987c-e42b7173771a')\"\n",
              "              title=\"Convert this dataframe to an interactive table.\"\n",
              "              style=\"display:none;\">\n",
              "        \n",
              "  <svg xmlns=\"http://www.w3.org/2000/svg\" height=\"24px\"viewBox=\"0 0 24 24\"\n",
              "       width=\"24px\">\n",
              "    <path d=\"M0 0h24v24H0V0z\" fill=\"none\"/>\n",
              "    <path d=\"M18.56 5.44l.94 2.06.94-2.06 2.06-.94-2.06-.94-.94-2.06-.94 2.06-2.06.94zm-11 1L8.5 8.5l.94-2.06 2.06-.94-2.06-.94L8.5 2.5l-.94 2.06-2.06.94zm10 10l.94 2.06.94-2.06 2.06-.94-2.06-.94-.94-2.06-.94 2.06-2.06.94z\"/><path d=\"M17.41 7.96l-1.37-1.37c-.4-.4-.92-.59-1.43-.59-.52 0-1.04.2-1.43.59L10.3 9.45l-7.72 7.72c-.78.78-.78 2.05 0 2.83L4 21.41c.39.39.9.59 1.41.59.51 0 1.02-.2 1.41-.59l7.78-7.78 2.81-2.81c.8-.78.8-2.07 0-2.86zM5.41 20L4 18.59l7.72-7.72 1.47 1.35L5.41 20z\"/>\n",
              "  </svg>\n",
              "      </button>\n",
              "      \n",
              "  <style>\n",
              "    .colab-df-container {\n",
              "      display:flex;\n",
              "      flex-wrap:wrap;\n",
              "      gap: 12px;\n",
              "    }\n",
              "\n",
              "    .colab-df-convert {\n",
              "      background-color: #E8F0FE;\n",
              "      border: none;\n",
              "      border-radius: 50%;\n",
              "      cursor: pointer;\n",
              "      display: none;\n",
              "      fill: #1967D2;\n",
              "      height: 32px;\n",
              "      padding: 0 0 0 0;\n",
              "      width: 32px;\n",
              "    }\n",
              "\n",
              "    .colab-df-convert:hover {\n",
              "      background-color: #E2EBFA;\n",
              "      box-shadow: 0px 1px 2px rgba(60, 64, 67, 0.3), 0px 1px 3px 1px rgba(60, 64, 67, 0.15);\n",
              "      fill: #174EA6;\n",
              "    }\n",
              "\n",
              "    [theme=dark] .colab-df-convert {\n",
              "      background-color: #3B4455;\n",
              "      fill: #D2E3FC;\n",
              "    }\n",
              "\n",
              "    [theme=dark] .colab-df-convert:hover {\n",
              "      background-color: #434B5C;\n",
              "      box-shadow: 0px 1px 3px 1px rgba(0, 0, 0, 0.15);\n",
              "      filter: drop-shadow(0px 1px 2px rgba(0, 0, 0, 0.3));\n",
              "      fill: #FFFFFF;\n",
              "    }\n",
              "  </style>\n",
              "\n",
              "      <script>\n",
              "        const buttonEl =\n",
              "          document.querySelector('#df-bcddd36b-f510-44b0-987c-e42b7173771a button.colab-df-convert');\n",
              "        buttonEl.style.display =\n",
              "          google.colab.kernel.accessAllowed ? 'block' : 'none';\n",
              "\n",
              "        async function convertToInteractive(key) {\n",
              "          const element = document.querySelector('#df-bcddd36b-f510-44b0-987c-e42b7173771a');\n",
              "          const dataTable =\n",
              "            await google.colab.kernel.invokeFunction('convertToInteractive',\n",
              "                                                     [key], {});\n",
              "          if (!dataTable) return;\n",
              "\n",
              "          const docLinkHtml = 'Like what you see? Visit the ' +\n",
              "            '<a target=\"_blank\" href=https://colab.research.google.com/notebooks/data_table.ipynb>data table notebook</a>'\n",
              "            + ' to learn more about interactive tables.';\n",
              "          element.innerHTML = '';\n",
              "          dataTable['output_type'] = 'display_data';\n",
              "          await google.colab.output.renderOutput(dataTable, element);\n",
              "          const docLink = document.createElement('div');\n",
              "          docLink.innerHTML = docLinkHtml;\n",
              "          element.appendChild(docLink);\n",
              "        }\n",
              "      </script>\n",
              "    </div>\n",
              "  </div>\n",
              "  "
            ]
          },
          "metadata": {},
          "execution_count": 25
        }
      ]
    },
    {
      "cell_type": "code",
      "source": [
        "operon_dfc = operon_df[(operon_df[\"start\"]     >= 2320188) &\n",
        "                      (operon_df[\"end\"]       <= 2322032) &\n",
        "                      (operon_df[\"strand\"]    == \"-\")     &\n",
        "                      (operon_df[\"candidate\"] == \"include\")]                                     \n",
        "operon_dfc.reset_index(drop=True, inplace=True)\n",
        "operon_dfc"
      ],
      "metadata": {
        "colab": {
          "base_uri": "https://localhost:8080/",
          "height": 81
        },
        "id": "QagUV6c1Nd-f",
        "outputId": "e6c60581-c5a5-419f-c458-db5e9e9f8639"
      },
      "execution_count": null,
      "outputs": [
        {
          "output_type": "execute_result",
          "data": {
            "text/plain": [
              "    chr            source feature_type    start      end  score strand  phase  \\\n",
              "0  Smir  pyrodigal_v2.1.0          CDS  2320188  2322032  417.0      -      0   \n",
              "\n",
              "                                                info  \\\n",
              "0  ID=Smir_2176;partial=00;start_type=ATG;rbs_mot...   \n",
              "\n",
              "                                          annotation candidate  \n",
              "0  {'ID': 'Smir_2176', 'partial': '00', 'start_ty...   include  "
            ],
            "text/html": [
              "\n",
              "  <div id=\"df-be8a270c-9295-4b2e-90fa-00cab91c0baa\">\n",
              "    <div class=\"colab-df-container\">\n",
              "      <div>\n",
              "<style scoped>\n",
              "    .dataframe tbody tr th:only-of-type {\n",
              "        vertical-align: middle;\n",
              "    }\n",
              "\n",
              "    .dataframe tbody tr th {\n",
              "        vertical-align: top;\n",
              "    }\n",
              "\n",
              "    .dataframe thead th {\n",
              "        text-align: right;\n",
              "    }\n",
              "</style>\n",
              "<table border=\"1\" class=\"dataframe\">\n",
              "  <thead>\n",
              "    <tr style=\"text-align: right;\">\n",
              "      <th></th>\n",
              "      <th>chr</th>\n",
              "      <th>source</th>\n",
              "      <th>feature_type</th>\n",
              "      <th>start</th>\n",
              "      <th>end</th>\n",
              "      <th>score</th>\n",
              "      <th>strand</th>\n",
              "      <th>phase</th>\n",
              "      <th>info</th>\n",
              "      <th>annotation</th>\n",
              "      <th>candidate</th>\n",
              "    </tr>\n",
              "  </thead>\n",
              "  <tbody>\n",
              "    <tr>\n",
              "      <th>0</th>\n",
              "      <td>Smir</td>\n",
              "      <td>pyrodigal_v2.1.0</td>\n",
              "      <td>CDS</td>\n",
              "      <td>2320188</td>\n",
              "      <td>2322032</td>\n",
              "      <td>417.0</td>\n",
              "      <td>-</td>\n",
              "      <td>0</td>\n",
              "      <td>ID=Smir_2176;partial=00;start_type=ATG;rbs_mot...</td>\n",
              "      <td>{'ID': 'Smir_2176', 'partial': '00', 'start_ty...</td>\n",
              "      <td>include</td>\n",
              "    </tr>\n",
              "  </tbody>\n",
              "</table>\n",
              "</div>\n",
              "      <button class=\"colab-df-convert\" onclick=\"convertToInteractive('df-be8a270c-9295-4b2e-90fa-00cab91c0baa')\"\n",
              "              title=\"Convert this dataframe to an interactive table.\"\n",
              "              style=\"display:none;\">\n",
              "        \n",
              "  <svg xmlns=\"http://www.w3.org/2000/svg\" height=\"24px\"viewBox=\"0 0 24 24\"\n",
              "       width=\"24px\">\n",
              "    <path d=\"M0 0h24v24H0V0z\" fill=\"none\"/>\n",
              "    <path d=\"M18.56 5.44l.94 2.06.94-2.06 2.06-.94-2.06-.94-.94-2.06-.94 2.06-2.06.94zm-11 1L8.5 8.5l.94-2.06 2.06-.94-2.06-.94L8.5 2.5l-.94 2.06-2.06.94zm10 10l.94 2.06.94-2.06 2.06-.94-2.06-.94-.94-2.06-.94 2.06-2.06.94z\"/><path d=\"M17.41 7.96l-1.37-1.37c-.4-.4-.92-.59-1.43-.59-.52 0-1.04.2-1.43.59L10.3 9.45l-7.72 7.72c-.78.78-.78 2.05 0 2.83L4 21.41c.39.39.9.59 1.41.59.51 0 1.02-.2 1.41-.59l7.78-7.78 2.81-2.81c.8-.78.8-2.07 0-2.86zM5.41 20L4 18.59l7.72-7.72 1.47 1.35L5.41 20z\"/>\n",
              "  </svg>\n",
              "      </button>\n",
              "      \n",
              "  <style>\n",
              "    .colab-df-container {\n",
              "      display:flex;\n",
              "      flex-wrap:wrap;\n",
              "      gap: 12px;\n",
              "    }\n",
              "\n",
              "    .colab-df-convert {\n",
              "      background-color: #E8F0FE;\n",
              "      border: none;\n",
              "      border-radius: 50%;\n",
              "      cursor: pointer;\n",
              "      display: none;\n",
              "      fill: #1967D2;\n",
              "      height: 32px;\n",
              "      padding: 0 0 0 0;\n",
              "      width: 32px;\n",
              "    }\n",
              "\n",
              "    .colab-df-convert:hover {\n",
              "      background-color: #E2EBFA;\n",
              "      box-shadow: 0px 1px 2px rgba(60, 64, 67, 0.3), 0px 1px 3px 1px rgba(60, 64, 67, 0.15);\n",
              "      fill: #174EA6;\n",
              "    }\n",
              "\n",
              "    [theme=dark] .colab-df-convert {\n",
              "      background-color: #3B4455;\n",
              "      fill: #D2E3FC;\n",
              "    }\n",
              "\n",
              "    [theme=dark] .colab-df-convert:hover {\n",
              "      background-color: #434B5C;\n",
              "      box-shadow: 0px 1px 3px 1px rgba(0, 0, 0, 0.15);\n",
              "      filter: drop-shadow(0px 1px 2px rgba(0, 0, 0, 0.3));\n",
              "      fill: #FFFFFF;\n",
              "    }\n",
              "  </style>\n",
              "\n",
              "      <script>\n",
              "        const buttonEl =\n",
              "          document.querySelector('#df-be8a270c-9295-4b2e-90fa-00cab91c0baa button.colab-df-convert');\n",
              "        buttonEl.style.display =\n",
              "          google.colab.kernel.accessAllowed ? 'block' : 'none';\n",
              "\n",
              "        async function convertToInteractive(key) {\n",
              "          const element = document.querySelector('#df-be8a270c-9295-4b2e-90fa-00cab91c0baa');\n",
              "          const dataTable =\n",
              "            await google.colab.kernel.invokeFunction('convertToInteractive',\n",
              "                                                     [key], {});\n",
              "          if (!dataTable) return;\n",
              "\n",
              "          const docLinkHtml = 'Like what you see? Visit the ' +\n",
              "            '<a target=\"_blank\" href=https://colab.research.google.com/notebooks/data_table.ipynb>data table notebook</a>'\n",
              "            + ' to learn more about interactive tables.';\n",
              "          element.innerHTML = '';\n",
              "          dataTable['output_type'] = 'display_data';\n",
              "          await google.colab.output.renderOutput(dataTable, element);\n",
              "          const docLink = document.createElement('div');\n",
              "          docLink.innerHTML = docLinkHtml;\n",
              "          element.appendChild(docLink);\n",
              "        }\n",
              "      </script>\n",
              "    </div>\n",
              "  </div>\n",
              "  "
            ]
          },
          "metadata": {},
          "execution_count": 26
        }
      ]
    },
    {
      "cell_type": "code",
      "source": [
        "operon_dfd = operon_df[(operon_df[\"start\"]     >= 2453645) &\n",
        "                      (operon_df[\"end\"]       <= 2455261) &\n",
        "                      (operon_df[\"strand\"]    == \"+\")     &\n",
        "                      (operon_df[\"candidate\"] == \"include\")]                                     \n",
        "operon_dfd.reset_index(drop=True, inplace=True)\n",
        "operon_dfd"
      ],
      "metadata": {
        "colab": {
          "base_uri": "https://localhost:8080/",
          "height": 81
        },
        "id": "6mK5cUdZNeIL",
        "outputId": "5f95de7f-e8b1-4d5f-b36b-ecf08b4a01cf"
      },
      "execution_count": null,
      "outputs": [
        {
          "output_type": "execute_result",
          "data": {
            "text/plain": [
              "    chr            source feature_type    start      end  score strand  phase  \\\n",
              "0  Smir  pyrodigal_v2.1.0          CDS  2453645  2455261  385.7      +      0   \n",
              "\n",
              "                                                info  \\\n",
              "0  ID=Smir_2296;partial=00;start_type=ATG;rbs_mot...   \n",
              "\n",
              "                                          annotation candidate  \n",
              "0  {'ID': 'Smir_2296', 'partial': '00', 'start_ty...   include  "
            ],
            "text/html": [
              "\n",
              "  <div id=\"df-3468b544-e88d-48df-92e1-a280aa763fd6\">\n",
              "    <div class=\"colab-df-container\">\n",
              "      <div>\n",
              "<style scoped>\n",
              "    .dataframe tbody tr th:only-of-type {\n",
              "        vertical-align: middle;\n",
              "    }\n",
              "\n",
              "    .dataframe tbody tr th {\n",
              "        vertical-align: top;\n",
              "    }\n",
              "\n",
              "    .dataframe thead th {\n",
              "        text-align: right;\n",
              "    }\n",
              "</style>\n",
              "<table border=\"1\" class=\"dataframe\">\n",
              "  <thead>\n",
              "    <tr style=\"text-align: right;\">\n",
              "      <th></th>\n",
              "      <th>chr</th>\n",
              "      <th>source</th>\n",
              "      <th>feature_type</th>\n",
              "      <th>start</th>\n",
              "      <th>end</th>\n",
              "      <th>score</th>\n",
              "      <th>strand</th>\n",
              "      <th>phase</th>\n",
              "      <th>info</th>\n",
              "      <th>annotation</th>\n",
              "      <th>candidate</th>\n",
              "    </tr>\n",
              "  </thead>\n",
              "  <tbody>\n",
              "    <tr>\n",
              "      <th>0</th>\n",
              "      <td>Smir</td>\n",
              "      <td>pyrodigal_v2.1.0</td>\n",
              "      <td>CDS</td>\n",
              "      <td>2453645</td>\n",
              "      <td>2455261</td>\n",
              "      <td>385.7</td>\n",
              "      <td>+</td>\n",
              "      <td>0</td>\n",
              "      <td>ID=Smir_2296;partial=00;start_type=ATG;rbs_mot...</td>\n",
              "      <td>{'ID': 'Smir_2296', 'partial': '00', 'start_ty...</td>\n",
              "      <td>include</td>\n",
              "    </tr>\n",
              "  </tbody>\n",
              "</table>\n",
              "</div>\n",
              "      <button class=\"colab-df-convert\" onclick=\"convertToInteractive('df-3468b544-e88d-48df-92e1-a280aa763fd6')\"\n",
              "              title=\"Convert this dataframe to an interactive table.\"\n",
              "              style=\"display:none;\">\n",
              "        \n",
              "  <svg xmlns=\"http://www.w3.org/2000/svg\" height=\"24px\"viewBox=\"0 0 24 24\"\n",
              "       width=\"24px\">\n",
              "    <path d=\"M0 0h24v24H0V0z\" fill=\"none\"/>\n",
              "    <path d=\"M18.56 5.44l.94 2.06.94-2.06 2.06-.94-2.06-.94-.94-2.06-.94 2.06-2.06.94zm-11 1L8.5 8.5l.94-2.06 2.06-.94-2.06-.94L8.5 2.5l-.94 2.06-2.06.94zm10 10l.94 2.06.94-2.06 2.06-.94-2.06-.94-.94-2.06-.94 2.06-2.06.94z\"/><path d=\"M17.41 7.96l-1.37-1.37c-.4-.4-.92-.59-1.43-.59-.52 0-1.04.2-1.43.59L10.3 9.45l-7.72 7.72c-.78.78-.78 2.05 0 2.83L4 21.41c.39.39.9.59 1.41.59.51 0 1.02-.2 1.41-.59l7.78-7.78 2.81-2.81c.8-.78.8-2.07 0-2.86zM5.41 20L4 18.59l7.72-7.72 1.47 1.35L5.41 20z\"/>\n",
              "  </svg>\n",
              "      </button>\n",
              "      \n",
              "  <style>\n",
              "    .colab-df-container {\n",
              "      display:flex;\n",
              "      flex-wrap:wrap;\n",
              "      gap: 12px;\n",
              "    }\n",
              "\n",
              "    .colab-df-convert {\n",
              "      background-color: #E8F0FE;\n",
              "      border: none;\n",
              "      border-radius: 50%;\n",
              "      cursor: pointer;\n",
              "      display: none;\n",
              "      fill: #1967D2;\n",
              "      height: 32px;\n",
              "      padding: 0 0 0 0;\n",
              "      width: 32px;\n",
              "    }\n",
              "\n",
              "    .colab-df-convert:hover {\n",
              "      background-color: #E2EBFA;\n",
              "      box-shadow: 0px 1px 2px rgba(60, 64, 67, 0.3), 0px 1px 3px 1px rgba(60, 64, 67, 0.15);\n",
              "      fill: #174EA6;\n",
              "    }\n",
              "\n",
              "    [theme=dark] .colab-df-convert {\n",
              "      background-color: #3B4455;\n",
              "      fill: #D2E3FC;\n",
              "    }\n",
              "\n",
              "    [theme=dark] .colab-df-convert:hover {\n",
              "      background-color: #434B5C;\n",
              "      box-shadow: 0px 1px 3px 1px rgba(0, 0, 0, 0.15);\n",
              "      filter: drop-shadow(0px 1px 2px rgba(0, 0, 0, 0.3));\n",
              "      fill: #FFFFFF;\n",
              "    }\n",
              "  </style>\n",
              "\n",
              "      <script>\n",
              "        const buttonEl =\n",
              "          document.querySelector('#df-3468b544-e88d-48df-92e1-a280aa763fd6 button.colab-df-convert');\n",
              "        buttonEl.style.display =\n",
              "          google.colab.kernel.accessAllowed ? 'block' : 'none';\n",
              "\n",
              "        async function convertToInteractive(key) {\n",
              "          const element = document.querySelector('#df-3468b544-e88d-48df-92e1-a280aa763fd6');\n",
              "          const dataTable =\n",
              "            await google.colab.kernel.invokeFunction('convertToInteractive',\n",
              "                                                     [key], {});\n",
              "          if (!dataTable) return;\n",
              "\n",
              "          const docLinkHtml = 'Like what you see? Visit the ' +\n",
              "            '<a target=\"_blank\" href=https://colab.research.google.com/notebooks/data_table.ipynb>data table notebook</a>'\n",
              "            + ' to learn more about interactive tables.';\n",
              "          element.innerHTML = '';\n",
              "          dataTable['output_type'] = 'display_data';\n",
              "          await google.colab.output.renderOutput(dataTable, element);\n",
              "          const docLink = document.createElement('div');\n",
              "          docLink.innerHTML = docLinkHtml;\n",
              "          element.appendChild(docLink);\n",
              "        }\n",
              "      </script>\n",
              "    </div>\n",
              "  </div>\n",
              "  "
            ]
          },
          "metadata": {},
          "execution_count": 27
        }
      ]
    },
    {
      "cell_type": "code",
      "source": [
        "operon_dfe = operon_df[(operon_df[\"start\"]     >= 3391100) &\n",
        "                      (operon_df[\"end\"]       <= 3392482) &\n",
        "                      (operon_df[\"strand\"]    == \"+\")     &\n",
        "                      (operon_df[\"candidate\"] == \"include\")]                                     \n",
        "operon_dfe.reset_index(drop=True, inplace=True)\n",
        "operon_dfe"
      ],
      "metadata": {
        "colab": {
          "base_uri": "https://localhost:8080/",
          "height": 81
        },
        "id": "QHQqREepNePk",
        "outputId": "2b4e5543-2859-48ba-eaa3-a24eb128d25b"
      },
      "execution_count": null,
      "outputs": [
        {
          "output_type": "execute_result",
          "data": {
            "text/plain": [
              "    chr            source feature_type    start      end  score strand  phase  \\\n",
              "0  Smir  pyrodigal_v2.1.0          CDS  3391100  3392482  176.1      +      0   \n",
              "\n",
              "                                                info  \\\n",
              "0  ID=Smir_3145;partial=00;start_type=ATG;rbs_mot...   \n",
              "\n",
              "                                          annotation candidate  \n",
              "0  {'ID': 'Smir_3145', 'partial': '00', 'start_ty...   include  "
            ],
            "text/html": [
              "\n",
              "  <div id=\"df-652a8625-96a8-469b-ad03-bba17b50e8a4\">\n",
              "    <div class=\"colab-df-container\">\n",
              "      <div>\n",
              "<style scoped>\n",
              "    .dataframe tbody tr th:only-of-type {\n",
              "        vertical-align: middle;\n",
              "    }\n",
              "\n",
              "    .dataframe tbody tr th {\n",
              "        vertical-align: top;\n",
              "    }\n",
              "\n",
              "    .dataframe thead th {\n",
              "        text-align: right;\n",
              "    }\n",
              "</style>\n",
              "<table border=\"1\" class=\"dataframe\">\n",
              "  <thead>\n",
              "    <tr style=\"text-align: right;\">\n",
              "      <th></th>\n",
              "      <th>chr</th>\n",
              "      <th>source</th>\n",
              "      <th>feature_type</th>\n",
              "      <th>start</th>\n",
              "      <th>end</th>\n",
              "      <th>score</th>\n",
              "      <th>strand</th>\n",
              "      <th>phase</th>\n",
              "      <th>info</th>\n",
              "      <th>annotation</th>\n",
              "      <th>candidate</th>\n",
              "    </tr>\n",
              "  </thead>\n",
              "  <tbody>\n",
              "    <tr>\n",
              "      <th>0</th>\n",
              "      <td>Smir</td>\n",
              "      <td>pyrodigal_v2.1.0</td>\n",
              "      <td>CDS</td>\n",
              "      <td>3391100</td>\n",
              "      <td>3392482</td>\n",
              "      <td>176.1</td>\n",
              "      <td>+</td>\n",
              "      <td>0</td>\n",
              "      <td>ID=Smir_3145;partial=00;start_type=ATG;rbs_mot...</td>\n",
              "      <td>{'ID': 'Smir_3145', 'partial': '00', 'start_ty...</td>\n",
              "      <td>include</td>\n",
              "    </tr>\n",
              "  </tbody>\n",
              "</table>\n",
              "</div>\n",
              "      <button class=\"colab-df-convert\" onclick=\"convertToInteractive('df-652a8625-96a8-469b-ad03-bba17b50e8a4')\"\n",
              "              title=\"Convert this dataframe to an interactive table.\"\n",
              "              style=\"display:none;\">\n",
              "        \n",
              "  <svg xmlns=\"http://www.w3.org/2000/svg\" height=\"24px\"viewBox=\"0 0 24 24\"\n",
              "       width=\"24px\">\n",
              "    <path d=\"M0 0h24v24H0V0z\" fill=\"none\"/>\n",
              "    <path d=\"M18.56 5.44l.94 2.06.94-2.06 2.06-.94-2.06-.94-.94-2.06-.94 2.06-2.06.94zm-11 1L8.5 8.5l.94-2.06 2.06-.94-2.06-.94L8.5 2.5l-.94 2.06-2.06.94zm10 10l.94 2.06.94-2.06 2.06-.94-2.06-.94-.94-2.06-.94 2.06-2.06.94z\"/><path d=\"M17.41 7.96l-1.37-1.37c-.4-.4-.92-.59-1.43-.59-.52 0-1.04.2-1.43.59L10.3 9.45l-7.72 7.72c-.78.78-.78 2.05 0 2.83L4 21.41c.39.39.9.59 1.41.59.51 0 1.02-.2 1.41-.59l7.78-7.78 2.81-2.81c.8-.78.8-2.07 0-2.86zM5.41 20L4 18.59l7.72-7.72 1.47 1.35L5.41 20z\"/>\n",
              "  </svg>\n",
              "      </button>\n",
              "      \n",
              "  <style>\n",
              "    .colab-df-container {\n",
              "      display:flex;\n",
              "      flex-wrap:wrap;\n",
              "      gap: 12px;\n",
              "    }\n",
              "\n",
              "    .colab-df-convert {\n",
              "      background-color: #E8F0FE;\n",
              "      border: none;\n",
              "      border-radius: 50%;\n",
              "      cursor: pointer;\n",
              "      display: none;\n",
              "      fill: #1967D2;\n",
              "      height: 32px;\n",
              "      padding: 0 0 0 0;\n",
              "      width: 32px;\n",
              "    }\n",
              "\n",
              "    .colab-df-convert:hover {\n",
              "      background-color: #E2EBFA;\n",
              "      box-shadow: 0px 1px 2px rgba(60, 64, 67, 0.3), 0px 1px 3px 1px rgba(60, 64, 67, 0.15);\n",
              "      fill: #174EA6;\n",
              "    }\n",
              "\n",
              "    [theme=dark] .colab-df-convert {\n",
              "      background-color: #3B4455;\n",
              "      fill: #D2E3FC;\n",
              "    }\n",
              "\n",
              "    [theme=dark] .colab-df-convert:hover {\n",
              "      background-color: #434B5C;\n",
              "      box-shadow: 0px 1px 3px 1px rgba(0, 0, 0, 0.15);\n",
              "      filter: drop-shadow(0px 1px 2px rgba(0, 0, 0, 0.3));\n",
              "      fill: #FFFFFF;\n",
              "    }\n",
              "  </style>\n",
              "\n",
              "      <script>\n",
              "        const buttonEl =\n",
              "          document.querySelector('#df-652a8625-96a8-469b-ad03-bba17b50e8a4 button.colab-df-convert');\n",
              "        buttonEl.style.display =\n",
              "          google.colab.kernel.accessAllowed ? 'block' : 'none';\n",
              "\n",
              "        async function convertToInteractive(key) {\n",
              "          const element = document.querySelector('#df-652a8625-96a8-469b-ad03-bba17b50e8a4');\n",
              "          const dataTable =\n",
              "            await google.colab.kernel.invokeFunction('convertToInteractive',\n",
              "                                                     [key], {});\n",
              "          if (!dataTable) return;\n",
              "\n",
              "          const docLinkHtml = 'Like what you see? Visit the ' +\n",
              "            '<a target=\"_blank\" href=https://colab.research.google.com/notebooks/data_table.ipynb>data table notebook</a>'\n",
              "            + ' to learn more about interactive tables.';\n",
              "          element.innerHTML = '';\n",
              "          dataTable['output_type'] = 'display_data';\n",
              "          await google.colab.output.renderOutput(dataTable, element);\n",
              "          const docLink = document.createElement('div');\n",
              "          docLink.innerHTML = docLinkHtml;\n",
              "          element.appendChild(docLink);\n",
              "        }\n",
              "      </script>\n",
              "    </div>\n",
              "  </div>\n",
              "  "
            ]
          },
          "metadata": {},
          "execution_count": 28
        }
      ]
    },
    {
      "cell_type": "code",
      "source": [
        "operon_gene_list = []\n",
        "for index in operon_dfa.index.tolist():\n",
        "    gene_id = operon_dfa[\"annotation\"][index][\"ID\"]\n",
        "    operon_gene_list.append(gene_id)\n",
        "for index in operon_dfb.index.tolist():\n",
        "    gene_id = operon_dfb[\"annotation\"][index][\"ID\"]\n",
        "    operon_gene_list.append(gene_id)\n",
        "for index in operon_dfc.index.tolist():\n",
        "    gene_id = operon_dfc[\"annotation\"][index][\"ID\"]\n",
        "    operon_gene_list.append(gene_id)\n",
        "for index in operon_dfd.index.tolist():\n",
        "    gene_id = operon_dfd[\"annotation\"][index][\"ID\"]\n",
        "    operon_gene_list.append(gene_id)\n",
        "for index in operon_dfe.index.tolist():\n",
        "    gene_id = operon_dfe[\"annotation\"][index][\"ID\"]\n",
        "    operon_gene_list.append(gene_id)"
      ],
      "metadata": {
        "id": "Zl9hlJY2KGye"
      },
      "execution_count": null,
      "outputs": []
    },
    {
      "cell_type": "code",
      "source": [
        "operon_gene_list"
      ],
      "metadata": {
        "colab": {
          "base_uri": "https://localhost:8080/"
        },
        "id": "HZ37wvmVMMnW",
        "outputId": "4d6db899-9ca6-4362-d3af-1a4db2dac26b"
      },
      "execution_count": null,
      "outputs": [
        {
          "output_type": "execute_result",
          "data": {
            "text/plain": [
              "['Smir_184', 'Smir_2059', 'Smir_2176', 'Smir_2296', 'Smir_3145']"
            ]
          },
          "metadata": {},
          "execution_count": 30
        }
      ]
    },
    {
      "cell_type": "markdown",
      "source": [
        "**2)** A partir de la lista que generé con los ids de las secuencias, construí un string con las secuencias de aminoácidos de interés en formato fasta. El cuál ocuparé para análisis funcionales con la plataforma **InterPro**."
      ],
      "metadata": {
        "id": "0OIUwSavKKfY"
      }
    },
    {
      "cell_type": "code",
      "source": [
        "query_str = \"\""
      ],
      "metadata": {
        "id": "IX0nAnIrKYYt"
      },
      "execution_count": null,
      "outputs": []
    },
    {
      "cell_type": "code",
      "source": [
        "for record in SeqIO.parse(aa_file, \"fasta\"):\n",
        "    seq_id  = record.id\n",
        "    if(seq_id in operon_gene_list):\n",
        "        seq_str = str(record.seq)\n",
        "        query_str+=\">\"+seq_id+\"\\n\"+seq_str+\"\\n\"\n",
        "query_str = query_str.replace(\"*\",\"\")"
      ],
      "metadata": {
        "id": "6vMb4PBsKZwO"
      },
      "execution_count": null,
      "outputs": []
    },
    {
      "cell_type": "code",
      "source": [
        "query_str"
      ],
      "metadata": {
        "colab": {
          "base_uri": "https://localhost:8080/",
          "height": 140
        },
        "id": "u-0mQJCjMwe3",
        "outputId": "716b82b4-3e8f-42a5-90bf-be28d51aa594"
      },
      "execution_count": null,
      "outputs": [
        {
          "output_type": "execute_result",
          "data": {
            "text/plain": [
              "'>Smir_184\\nMQSTKKAIEITESSLAAATTGYDAVDDLLHYHERGNGIQINGKDSFSNEQAGLFITRENQTWNGYKVFGQPIKLTFSFPDYKFSSTNVAGDTGLSKFSAEQQQQAKLSLQSWADVANITFTEVAAGQKANITFGNYSQDRPGHYDYGTQAYAFLPNTIWQGQDLGGQTWYNVNQSNVKHPATEDYGRQTFTHEIGHALGLSHPGDYNAGEGNPTYRDVTYAEDTRQFSLMSYWSETNTGGDNGGHYAAAPLLDDIAAIQHLYGANLSTRTGDTVYGFNSNTGRDFLSTTSNSQKVIFAAWDAGGNDTFDFSGYTANQRINLNEKSFSDVGGLKGNVSIAAGVTIENAIGGSGNDVIVGNAANNVLKGGAGNDVLFGGGGADELWGGAGKDIFVFSAASDSAPGASDWIRDFQKGIDKIDLSFFNKEAQSSDFIHFVDHFSGAAGEALLSYNASNNVTDLSVNIGGHQAPDFLVKIVGQVDVATDFIV\\n>Smir_2059\\nMSSSNASVKAEGVLALLGAYKPDEDDTITVLHPSKTFENAGLELVRGDRSWHDKGVTDTPVSLTYSFWEKAPGNMSSMGISGFSSFNAEQREQAKLSLQSWSDVANITFTETSNTAAANIKFGLFDYSSRGSYAFAYNPDSSPSVAGQTWYNAKNHTFVNNQIHENEYGRQTFTHEIGHALGLQHPGDYNAAPGVSITYGKDATYFEDSRAHSLMSYFSESNTGQDFKGAYSSGPLLNDITAIQHFYGANMNTRTGDTVYGFNSNTDRDFLTATGAQDKIIFTAWDAGGNDTFDFSGFGQNQRINLNEKAFSDVGGLKGNVSIAAGVTIENAIGGSGNDVLVGNAADNVLKGGAGDDVLYGGKGADQLWGGAGKDTFVYFAADESTAAAPDWIRDFVRGEDKIDLTLFNTGSADGIRFVDQFSGKAGEAKLSYDEQNHVSDVAINLGGAFDGNDFLVKVVGQPLDAGDFVLA\\n>Smir_2176\\nMGIFSYKDLDENASKALFSDALAISTYAYHNIDNGFDEGYHQTGFGLGLPLTLVTALIGSTQSQGGLPGLPWNPDSEQAAQEAVNNAGWSVISAAQLGYAGKTDARGTYYGETAGYTTAQAEVLGKYDSEGNLTAIGISFRGTSGPRESLIGDTIGDVINDLLAGFGPKGYADGYTLKAFGNLLGDVAKFAKAHGLSGEDVVVSGHSLGGLAVNSMAAQSDANWGGFYAQSNYVAFASPTQYEAGGKVINIGYENDPVFRALDGTSLTLPSLGVHDAPHASATNNIVNFNDHYASDAWNLLPFSILNIPTWLSHLPFFYQDGLMRVLNSEFYSLTDKDSTIIVSNLSNVTRGNTWVEDLNRNAETHSGPTFIIGSDGNDLIKGGKGNDYLEGRDGDDIFRDAGGYNLIAGGKGHNIFDTQQALKNTEVAYDGNTLYLRDAKGGITLADDISTLRSKETSWLIFSKEVDHQVTATGLKSDAGLKAYAATTTGGDGDDLLQARGHDAWLFGNAGNDTLIGHAGGNLTFVGGSGDDILKGVGNGNTFLFSGDFGRDQLYGFNATDKLVFIGTEGASGNIRDYATQQNDDLVLAFGHSQVTLIGVSLDHFNTDQVVLA\\n>Smir_2296\\nMRSRHNDILQDDDEFTSLAATSPNDHNYQFYYHQPGSPYDGLGYGALFTLDNANLYSNQRGGAAINNLGKIRDNFSFDRAADQLTRPGLTHNGDQVYHQPVALTYSFLTQSALNRIGQTGDGDKGLQPLTQAAQAQALKSMQAWADVANVTFTEAASTDINHRADITFAYFTQRADGSTAAGSGPNAINAYAYYPPSSKSGSDNAFAGTVWFNKNFATHQAPVSGDFSSQTFTHELGHALGLAHPGSYDASLGNPSYQNDAAYYQDSLQYSIMSYFNAGYTGADTKGVYGYGPMVDDIAAIQKLYGANMSTRTGDTVYGFNSNTGRDFLTATADNGKPVNFAVWDAGGNDTLDFSGYSQQQMINLNDGAFSSVGGGTQNVAIARGAIIENAIGGSGRDVIIGNDQDNLLAGNAGSDILYGGLGADHLWGGKDANNFTDYFVYLNAKESTVAAFDVIEDFEHGIDKIDLSGLRFNNSLSELRFIDSGSAFSGQKGEIQLNFDAFNGTTDLLMNTQSNSYAADFKIHVVGQVEQSDILFA\\n>Smir_3145\\nMSLATDKISDYLTRYERGDHAGSSKPSYTTQEVSDLLLRSHYSANGKGVTDHAATLTYSFPVYTGSDKTGAAQLTAAQQAQTKLSLQSWSDVANITFTEVKGNDAKNADIKFGFYKAASGGNYTSYESTQSNLKSTIWISGNNGYDASNPQTNNYARDTLTHEIGHALGLSHPGNYDASNATYPTYANSAKYYEDDHQYSLMSYFNEQYTSADYKGVWPSGPQLDDITAIQKLYGANTTTRTGDTTYGFNSNTDRDFLSVKASTDKIVAAIWDAGGNDTLDFSGYSQDQRININEGAFSDVGGLKANIAIAYGAQIENIIGGSGADILVGNALNNTLKGGAGNDIIYGAGGADQLWGNAGADTFVFREAGDSQAAAPDWIRDFQTAVDKIDLSWLNQTAKADGSELHFVDSLSGSLYEAALNYDAQQNVTDLAINLSGNQLPDFLVKIVGHVDASADILV\\n'"
            ],
            "application/vnd.google.colaboratory.intrinsic+json": {
              "type": "string"
            }
          },
          "metadata": {},
          "execution_count": 33
        }
      ]
    },
    {
      "cell_type": "markdown",
      "source": [
        "### <font color=purple>**10. Análisis funcionales**"
      ],
      "metadata": {
        "id": "unxzw_ZI7LO1"
      }
    },
    {
      "cell_type": "markdown",
      "source": [
        "**InterPro** proporciona análisis funcional de proteínas clasificándolas en **familias y prediciendo dominios y sitios importantes**. Para ello, esta plataforma utiliza modelos predictivos, conocidos como firmas, proporcionados por varias bases de datos diferentes que componen el consorcio InterPro. \n",
        "\n",
        "El proceso de búsqueda de dominios lo dividiremos en **tres etapas**:\n",
        "\n",
        "1.   Envío de las secuencias\n",
        "2.   Consulta del status del envío\n",
        "3.   Descarga de resultados"
      ],
      "metadata": {
        "id": "hqIgpJhAKfvt"
      }
    },
    {
      "cell_type": "code",
      "source": [
        "#Envío de las secuencias\n",
        "submit_url   = \"https://www.ebi.ac.uk/Tools/services/rest/iprscan5/run\""
      ],
      "metadata": {
        "id": "781H0edcKzQ4"
      },
      "execution_count": null,
      "outputs": []
    },
    {
      "cell_type": "code",
      "source": [
        "#Consulta del status del envío\n",
        "progress_url = \"https://www.ebi.ac.uk/Tools/services/rest/iprscan5/status\""
      ],
      "metadata": {
        "id": "r6A5tZxJKzWW"
      },
      "execution_count": null,
      "outputs": []
    },
    {
      "cell_type": "code",
      "source": [
        "# Descarga de resultados\n",
        "results_url  = \"https://www.ebi.ac.uk/Tools/services/rest/iprscan5/result\""
      ],
      "metadata": {
        "id": "UIUPCEM8KzfG"
      },
      "execution_count": null,
      "outputs": []
    },
    {
      "cell_type": "markdown",
      "source": [
        "> Cada etapa acepta headers específicos"
      ],
      "metadata": {
        "id": "K_SNR-tnLBvg"
      }
    },
    {
      "cell_type": "code",
      "source": [
        "submit_headers   = {\"Accept\":\"text/plain\"}\n",
        "progress_headers = {\"Accept\":\"text/plain\"}\n",
        "results_headers  = {\"Accept\":\"text/tab-separated-values\"}"
      ],
      "metadata": {
        "id": "tMz5sheSLFFL"
      },
      "execution_count": null,
      "outputs": []
    },
    {
      "cell_type": "markdown",
      "source": [
        "<font color=purple>**10.1 Envío de las secuencias**\n",
        "\n",
        "En esta etapa se debe construír un diccionario de python en donde se incorporan los requerimientos para buscar los dominios funcionales**:**"
      ],
      "metadata": {
        "id": "8ZOvNR-4LJhn"
      }
    },
    {
      "cell_type": "code",
      "source": [
        "submit_data = {\"email\":\"vflorelo@gmail.com\",\n",
        "               \"title\":\"operon_335_345\",\n",
        "               \"goterms\":\"true\",\n",
        "               \"pathways\":\"false\",\n",
        "               \"stype\":\"p\",\n",
        "               \"sequence\":query_str}"
      ],
      "metadata": {
        "id": "O2ruoZkpLSJx"
      },
      "execution_count": null,
      "outputs": []
    },
    {
      "cell_type": "markdown",
      "source": [
        "> Con los datos listos, realicé el envío de mis secuencias"
      ],
      "metadata": {
        "id": "xiSYFhUtLSzi"
      }
    },
    {
      "cell_type": "code",
      "source": [
        "submit_request = requests.post(submit_url,data=submit_data,headers=submit_headers)"
      ],
      "metadata": {
        "id": "xf8s6Nm3LS-z"
      },
      "execution_count": null,
      "outputs": []
    },
    {
      "cell_type": "markdown",
      "source": [
        "> Con el siguiente código obtuve el **job_id** como el código de estado"
      ],
      "metadata": {
        "id": "bucVfSlOLXRe"
      }
    },
    {
      "cell_type": "code",
      "source": [
        "submit_status_code = submit_request.status_code\n",
        "submit_job_id      = submit_request.text"
      ],
      "metadata": {
        "id": "J0dJ5deuLdwb"
      },
      "execution_count": null,
      "outputs": []
    },
    {
      "cell_type": "code",
      "source": [
        "print(submit_status_code)\n",
        "print(submit_job_id)"
      ],
      "metadata": {
        "colab": {
          "base_uri": "https://localhost:8080/"
        },
        "id": "rOniS4UFLfc8",
        "outputId": "8e5e8b52-6627-41db-9440-4f3ddeeced3e"
      },
      "execution_count": null,
      "outputs": [
        {
          "output_type": "stream",
          "name": "stdout",
          "text": [
            "200\n",
            "iprscan5-R20230317-053440-0884-77661462-p1m\n"
          ]
        }
      ]
    },
    {
      "cell_type": "markdown",
      "source": [
        "<font color=purple>**10.2 Consulta del status del envío**\n",
        "\n",
        "Con el job_id consulté el progreso del análisis con las siguientes líneas de código**:**"
      ],
      "metadata": {
        "id": "Lm2M7hxbLg54"
      }
    },
    {
      "cell_type": "code",
      "source": [
        "progress_request     = requests.get(progress_url+\"/\"+submit_job_id,headers=progress_headers)\n",
        "progress_status_code = progress_request.status_code\n",
        "progress_status      = progress_request.text\n",
        "print(progress_status_code)\n",
        "print(progress_status)"
      ],
      "metadata": {
        "colab": {
          "base_uri": "https://localhost:8080/"
        },
        "id": "Y0Q76cJRLiNl",
        "outputId": "ff07a1ab-564f-4b11-9814-384e8e8a8539"
      },
      "execution_count": null,
      "outputs": [
        {
          "output_type": "stream",
          "name": "stdout",
          "text": [
            "200\n",
            "FINISHED\n"
          ]
        }
      ]
    },
    {
      "cell_type": "markdown",
      "source": [
        "<font color=purple>**10.3 Obtención de los resultados**\n",
        "\n",
        "Cuando el estado del análisis fue \"FINISHED\", consulté los resultados del análisis, y accedí al reporte que después se formateó a un tsv para visualizar el reporte en forma tabular**:** "
      ],
      "metadata": {
        "id": "appMO0RPLjjv"
      }
    },
    {
      "cell_type": "code",
      "source": [
        "results_log_request = requests.get(results_url+\"/\"+submit_job_id+\"/log\",headers=results_headers)\n",
        "results_tsv_request = requests.get(results_url+\"/\"+submit_job_id+\"/tsv\",headers=results_headers)"
      ],
      "metadata": {
        "id": "osF-BBo6SosW"
      },
      "execution_count": null,
      "outputs": []
    },
    {
      "cell_type": "code",
      "source": [
        "print(results_log_request.text)"
      ],
      "metadata": {
        "colab": {
          "base_uri": "https://localhost:8080/"
        },
        "id": "iSh34N-MLl-x",
        "outputId": "fac78600-3fc3-45b7-8220-bc1f4825947a"
      },
      "execution_count": null,
      "outputs": [
        {
          "output_type": "stream",
          "name": "stdout",
          "text": [
            "17/03/2023 05:28:15:219 Welcome to InterProScan-5.61-93.0\n",
            "17/03/2023 05:28:15:221 Running InterProScan v5 in STANDALONE mode... on Linux\n",
            "17/03/2023 05:28:22:833 RunID: hh-wp-02-10.ebi.ac.uk_20230317_052822481_sla\n",
            "17/03/2023 05:28:35:873 Loading file /nfs/public/rw/es/projects/wp-jdispatcher/logs/prod/sources/jobs/iprscan5/rest/20230317/0534/iprscan5-R20230317-053440-0884-77661462-p1m.sequence\n",
            "17/03/2023 05:28:35:875 Running the following analyses:\n",
            "[AntiFam-7.0,CDD-3.20,Coils-2.2.1,FunFam-4.3.0,Gene3D-4.3.0,Hamap-2021_04,MobiDBLite-2.0,PANTHER-17.0,Pfam-35.0,Phobius-1.01,PIRSF-3.10,PIRSR-2021_05,PRINTS-42.0,ProSitePatterns-2022_05,ProSiteProfiles-2022_05,SFLD-4,SignalP_EUK-4.1,SignalP_GRAM_NEGATIVE-4.1,SignalP_GRAM_POSITIVE-4.1,SMART-9.0,SUPERFAMILY-1.75,TIGRFAM-15.0,TMHMM-2.0c]\n",
            "Available matches will be retrieved from the pre-calculated match lookup service.\n",
            "\n",
            "Matches for any sequences that are not represented in the lookup service will be calculated locally.\n",
            "17/03/2023 05:28:37:980 27% completed\n",
            "17/03/2023 05:28:50:230 54% completed\n",
            "17/03/2023 05:28:56:640 81% completed\n",
            "17/03/2023 05:28:56:961 90% completed\n",
            "17/03/2023 05:29:02:495 100% done:  InterProScan analyses completed \n",
            "\n",
            "2023-03-17 05:29:03,002 [main] [uk.ac.ebi.interpro.scan.jms.master.AbstractMaster:259] WARN - Master process unable to delete temporary directory /nfs/public/rw/es/projects/wp-jdispatcher/logs/prod/sources/jobs/iprscan5/rest/20230317/0534/temp/hh-wp-02-10.ebi.ac.uk_20230317_052822481_sla\n",
            "\n"
          ]
        }
      ]
    },
    {
      "cell_type": "markdown",
      "source": [
        "**Finalmente**, utilicé la biblioteca StringIO para transformar los resultados en un nuevo dataframe y examiné los resultados"
      ],
      "metadata": {
        "id": "2e-QDYn1LoET"
      }
    },
    {
      "cell_type": "code",
      "source": [
        "results_tsv_str = StringIO(results_tsv_request.text)\n",
        "results_column_names = [\"sequence\",\"md5\",\"length\",\"database\",\"accession\",\"description\",\"start\",\"end\",\"evalue\",\"post_processed\",\"date\",\"entry\",\"name\"]\n",
        "results_df = pd.read_csv(results_tsv_str,sep=\"\\t\",names=results_column_names)\n",
        "results_df.to_csv(\"InterPro_SmarSerralysin.tsv\", sep=\"\\t\")"
      ],
      "metadata": {
        "id": "i9nmCQ87LqSg"
      },
      "execution_count": null,
      "outputs": []
    },
    {
      "cell_type": "code",
      "source": [
        "results_df.info()"
      ],
      "metadata": {
        "colab": {
          "base_uri": "https://localhost:8080/"
        },
        "id": "qX2-fn8GLs95",
        "outputId": "d9864820-95be-4706-9431-a4abfff7f893"
      },
      "execution_count": null,
      "outputs": [
        {
          "output_type": "stream",
          "name": "stdout",
          "text": [
            "<class 'pandas.core.frame.DataFrame'>\n",
            "Index: 71 entries, Smir_184 to Smir_3145\n",
            "Data columns (total 13 columns):\n",
            " #   Column          Non-Null Count  Dtype \n",
            "---  ------          --------------  ----- \n",
            " 0   sequence        71 non-null     object\n",
            " 1   md5             71 non-null     int64 \n",
            " 2   length          71 non-null     object\n",
            " 3   database        71 non-null     object\n",
            " 4   accession       71 non-null     object\n",
            " 5   description     71 non-null     int64 \n",
            " 6   start           71 non-null     int64 \n",
            " 7   end             71 non-null     object\n",
            " 8   evalue          71 non-null     object\n",
            " 9   post_processed  71 non-null     object\n",
            " 10  date            71 non-null     object\n",
            " 11  entry           71 non-null     object\n",
            " 12  name            45 non-null     object\n",
            "dtypes: int64(3), object(10)\n",
            "memory usage: 7.8+ KB\n"
          ]
        }
      ]
    },
    {
      "cell_type": "markdown",
      "source": [
        "### <font color=purple>**11. Análisis filogenéticos**"
      ],
      "metadata": {
        "id": "Bfp-Ugbh-d6P"
      }
    },
    {
      "cell_type": "markdown",
      "source": [
        "<font color=purple>**11.1 Alineamiento múltiple**\n",
        "\n",
        "Para realizar la filogenia, previamente descargué **16 secuencias** de la base de datos de referencia de serralisina (UniprotKB) que fueron homólogas con las cinco proteínas putativas de *Serratia marcescens*. Utilicé este **set de datos de 21 secuencias de proteínas**, para realizar un **alineamiento multiple con** [MAFFT](https://mafft.cbrc.jp/alignment/server/), alineamiento que edité y visualicé en [Aliview](https://ormbunkar.se/aliview/).  \n",
        "\n",
        "Nota: El archivo que corresponde con el alineamiento múltiple está en la carpeta de Filogenia:**texto en negrita** **MAFFT-SerralysinFilogenia.fasta**\n",
        "\n"
      ],
      "metadata": {
        "id": "sPnnDC2t4FsS"
      }
    },
    {
      "cell_type": "markdown",
      "source": [
        "<font color=purple>**11.2 Prueba del modelo evolutivo**\n",
        "\n",
        "\n",
        "Usé el alineamiento final, recortado y filtrado, para inferir las relaciones filogenéticas de las secuencias. Pero primero realicé la prueba de modelo evolutivo.\n",
        "\n",
        "Para obtener el modelo evolutivo más adecuado para mi multialineamiento utilicé el programa [ModelTest-NG](https://github.com/ddarriba/modeltest) de la siguiente manera:\n",
        "```\n",
        "$ modeltest-ng -i MAFFT-SerralysinFilogenia.fasta -d aa -o ModelTest/Serralysins\n",
        "```\n",
        "<font color=red>**RESULTADO**\n",
        "\n",
        "Este programa arroja cuatro salidas que se encuentran en **ModelTest_Serralysins.out**:\n",
        "\n",
        "*   Serralysins.ckp\n",
        "*   Serralysins.log\n",
        "*   Serralysins.out\n",
        "*   Serralysins.tree\n",
        "\n",
        "**El mejor modelo seleccionado por los criterios de BIC, AIC y AICc fue el: WAG+G4+I**\n",
        "\n",
        "```\n",
        "                         Model         Score        Weight\n",
        "----------------------------------------------------------\n",
        "       BIC          WAG+I+G4+F    25832.7485        0.7310\n",
        "       AIC          WAG+I+G4+F    25566.1961        0.9616\n",
        "      AICc          WAG+I+G4+F    25578.1961        0.9616\n",
        "```\n"
      ],
      "metadata": {
        "id": "dCYBRGgFVeiY"
      }
    },
    {
      "cell_type": "markdown",
      "source": [
        "<font color=purple>**11.3 Análisis filogenético Bayesiano**\n",
        "\n",
        "Para realizar el análisis filogenético utilicé el software [beast2](http://www.beast2.org/) para Linux. Este programa se divide en modulos. En general los pasos que realicé para hacer la filogenía fueron los siguientes:\n",
        "\n",
        "1.   Crear un archivo XML en el modulo **BEAUti** que contiene el alineamiento, la especificación del modelo, valores iniciales y restricciones de parámetros, configuraciones del algoritmo MCMC y las Opciones de salida. **BeautiSerralysins.xml**\n",
        "\n",
        "2.   Ejecutamos el archivo **BeautiSerralysins.xml** con el modulo **beast**, que generará varios archivos, entre ellos se encuentra **SerralysinFilogenia.log**, con el que podemos evaluar los resultados del análisis en el programa Tracer, verificar que convergan las distribuciones posteriores y alcancen la estacionalidad.\n",
        "\n",
        "3.   Resuimir los árboles, para ello se utiliza el archivo **SerralysinFilogenia.trees**, que contiene todos los arboles generados. Con el módulo **Treeannotator**, que toma el conjunto de árboles y encuentra el mejor soportado,\n",
        "luego anota el árbol más representativo y calcula la probabilidad posterior de cada nodo y genera el archivo **Best-SerralysinFilogenia.trees**.\n"
      ],
      "metadata": {
        "id": "g7r8dH8XadkA"
      }
    },
    {
      "cell_type": "markdown",
      "source": [
        "<font color=purple>**11.4 Edición del árbol filogenético**\n",
        "\n",
        "Finalmente, visualicé y edité el mejor árbol filogenético en [iTOL](https://itol.embl.de/login.cgi). Archivo **Best**.\n"
      ],
      "metadata": {
        "id": "KgsIM1-VbZoS"
      }
    },
    {
      "cell_type": "markdown",
      "source": [
        "#<font color=purple>**RESUMEN DEL PROYECTO**"
      ],
      "metadata": {
        "id": "N0Zd4Lo0kY1l"
      }
    },
    {
      "cell_type": "markdown",
      "source": [
        "El genoma que bacteriano que analicé es de la especie *Serratia marcescens*, su número de acceso es **CP053918.1**. Este genoma tiene un tamaño de 5171649 bp y fue registrado por la Universidad Nomal de Leshan.\n"
      ],
      "metadata": {
        "id": "oKvvmmR10poK"
      }
    },
    {
      "cell_type": "markdown",
      "source": [
        "<font color=red>**Predicción de genes**\n",
        "\n",
        "Con la búsqueda de marcos de lectura (ORFs) en pyrodigal, obtuve las predicciones de genes que codifican proteínas en formato **gff** y un archivo **fasta** con 4,763 secuencias de proteínas."
      ],
      "metadata": {
        "id": "Ic24aQxQ0sbO"
      }
    },
    {
      "cell_type": "markdown",
      "source": [
        "<font color=red>**Análisis de homología**\n",
        "\n",
        "Para los análisis de homología con Blastp, consturí un base de datos de referenia a partir de las secuencias relacionadas con serralysin de UniProtKB/Swiss-Prot (revisado), que contiene secuencias no redundantes y anotadas manualmente con alta calidad. \n",
        "\n",
        "Esta base de datos constó de 88 secuencias, de las cuáles 27 tuvieron similitudes con 5 secuencias de proteínas de *Serratia marcescens* **CP053918.1**, con similitudes de 50 al 99%."
      ],
      "metadata": {
        "id": "0b3N73zR0qD1"
      }
    },
    {
      "cell_type": "markdown",
      "source": [
        "<font color=red>**Análisis funcionales**\n",
        "\n",
        "Todas las proteínas fueron **anotadas funcionalmente mediante la búsqueda de dominio**s dentro de:\n",
        "\n",
        "*   **Serralysin-like metalloprotease, C-terminal (IPR011049):** Este dominio contiene la repetición de unión a calcio de tipo hemolisina.\n",
        "*   **Peptidase M10 serralysin C terminal (PF08548):** Este dominio contiene el dominio de unión a iones de calcio.\n",
        "*   **Peptidase M10, metallopeptidase (IPR001818):** dominio de metaloproteasas extracelulares que degradan la matriz extracelular, se conocen como matrixinas. Son proteasas activadas por calcio, dependientes de zinc, sintetizadas como precursores inactivos (zimógenos), que se escinden proteolíticamente para producir la enzima activa.\n",
        "\n",
        "Con los siguientes **términos GO:**\n",
        "\n",
        "**Biological Process**\n",
        "```\n",
        "proteolysis (GO:0006508)\n",
        "```\n",
        "**Molecular Function**\n",
        "```\n",
        "calcium ion binding (GO:0005509)\n",
        "zinc ion binding (GO:0008270)\n",
        "metalloendopeptidase activity (GO:0004222)\n",
        "```\n",
        "**Cellular Component**\n",
        "```\n",
        "extracellular space (GO:0005615)\n",
        "extracellular matrix (GO:0031012)\n",
        "```"
      ],
      "metadata": {
        "id": "cJMtiNNdkgbI"
      }
    },
    {
      "cell_type": "markdown",
      "source": [
        "<font color=red>**Análisis filogenéticos**\n",
        "\n",
        "Las cinco proteínas de serralisinas putativas se agruparon en diferentes subclados con sus homólogos más cercanos y probabilidades posteriores bayesianas (BPP) del 100 %. Solo Smir_184 se agrupó dentro del mismo clado con serralisinas de *S. marcescens* de la base de referencia Uniprotkb. Las demás estuvieron relacionadas con proteínas de otros géneros de bacterias, lo que sugiere expansiones específicas. \n",
        "\n",
        "Anteriormente, se habían reportado homólogos de serralisinas metaloproteasa de *Proteus mirabilis* y *Photorhabdus luminescens*, cuya función es degradar factores inmunitarios humorales como inmunoglobulina y péptidos antimicrobianos (Nielsen-LeRoux *et al*., 2012). \n",
        "\n"
      ],
      "metadata": {
        "id": "cGWsGpSm0q94"
      }
    },
    {
      "cell_type": "markdown",
      "source": [
        "Los **RESULTADOS** de este proyecto, son interesantes, el agrupamiento de las serralisinas del genoma de *S. marcescens* con otras proteínas ortólogas de bacterias de géneros diferentes es algo que podría estudiarse de manera mas exhaustiva. En este caso, solo analicé las secuencias revisadas, que solo contienen dos proteínas caracterizada para esta especie, sin embargo, puede ser que existan más proteínas dentro de esta familia de metaloproteasas, ya que todas tienen las caracteríticas de dominios y firmas para clasificarlas dentro de las serralisinas."
      ],
      "metadata": {
        "id": "wbsp24DBANE8"
      }
    }
  ]
}
